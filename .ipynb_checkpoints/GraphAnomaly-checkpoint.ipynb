{
 "cells": [
  {
   "cell_type": "code",
   "execution_count": 44,
   "metadata": {
    "collapsed": false,
    "deletable": true,
    "editable": true
   },
   "outputs": [],
   "source": [
    "import pandas as pd \n",
    "import numpy as np\n",
    "import matplotlib.pyplot as plt \n",
    "import networkx as nx\n",
    "import os\n",
    "import re\n",
    "from sklearn.decomposition import PCA\n",
    "import numpy as np\n",
    "\n",
    "%matplotlib inline "
   ]
  },
  {
   "cell_type": "code",
   "execution_count": null,
   "metadata": {
    "collapsed": true
   },
   "outputs": [],
   "source": []
  },
  {
   "cell_type": "code",
   "execution_count": 85,
   "metadata": {
    "collapsed": false,
    "deletable": true,
    "editable": true
   },
   "outputs": [],
   "source": [
    "def projection_on_set(vector, set_of_vectors):\n",
    "    projection_vector = np.zeros(*vector.shape) \n",
    "    for ort_vector in set_of_vectors:\n",
    "        projection_vector += np.dot(vector, ort_vector) / np.linalg.norm(ort_vector) * ort_vector\n",
    "    return projection_vector"
   ]
  },
  {
   "cell_type": "code",
   "execution_count": 29,
   "metadata": {
    "collapsed": false,
    "deletable": true,
    "editable": true
   },
   "outputs": [],
   "source": [
    "import AnonymousWalkEmbeddings, AnonymousWalkKernel"
   ]
  },
  {
   "cell_type": "code",
   "execution_count": 30,
   "metadata": {
    "collapsed": false,
    "deletable": true,
    "editable": true
   },
   "outputs": [
    {
     "data": {
      "text/plain": [
       "<module 'AnonymousWalkEmbeddings' from 'AnonymousWalkEmbeddings.py'>"
      ]
     },
     "execution_count": 30,
     "metadata": {},
     "output_type": "execute_result"
    }
   ],
   "source": [
    "reload(AnonymousWalkEmbeddings)"
   ]
  },
  {
   "cell_type": "code",
   "execution_count": 31,
   "metadata": {
    "collapsed": false,
    "deletable": true,
    "editable": true
   },
   "outputs": [
    {
     "data": {
      "text/plain": [
       "<module 'AnonymousWalkKernel' from 'AnonymousWalkKernel.pyc'>"
      ]
     },
     "execution_count": 31,
     "metadata": {},
     "output_type": "execute_result"
    }
   ],
   "source": [
    "reload(AnonymousWalkKernel)"
   ]
  },
  {
   "cell_type": "markdown",
   "metadata": {
    "deletable": true,
    "editable": true
   },
   "source": [
    "# Детектирование аномалий в потоках графов "
   ]
  },
  {
   "cell_type": "markdown",
   "metadata": {
    "deletable": true,
    "editable": true
   },
   "source": [
    "## Описание \n",
    "\n",
    "В этом блоке будем сравнивать алгоритмы, которые могут выделять аномальные элементы в потоках графов.\n",
    "Для сравнения будем использовать алгоритмы [ParCube](#parcube), [DeltaCon](#deltacon), [Concept Drift and Anomaly Detection in Graph Streams](#cdadgs) и [наш](#ref) алгоритм\n",
    "\n",
    "Будем проводить эксперименты на датасете [TwitterSecurity2014](http://odds.cs.stonybrook.edu/twittersecurity-dataset/)\n",
    "* количество нод ~ 130 к\n",
    "* количество таймстемпов ~ 120 \n",
    "* 20 аномальных дней \n",
    "\n",
    "В качестве метрики для сравнения будем считать precision/recall \n"
   ]
  },
  {
   "cell_type": "code",
   "execution_count": null,
   "metadata": {
    "collapsed": true,
    "deletable": true,
    "editable": true
   },
   "outputs": [],
   "source": []
  },
  {
   "cell_type": "code",
   "execution_count": null,
   "metadata": {
    "collapsed": true,
    "deletable": true,
    "editable": true
   },
   "outputs": [],
   "source": []
  },
  {
   "cell_type": "code",
   "execution_count": null,
   "metadata": {
    "collapsed": true,
    "deletable": true,
    "editable": true
   },
   "outputs": [],
   "source": []
  },
  {
   "cell_type": "code",
   "execution_count": null,
   "metadata": {
    "collapsed": true,
    "deletable": true,
    "editable": true
   },
   "outputs": [],
   "source": []
  },
  {
   "cell_type": "markdown",
   "metadata": {
    "deletable": true,
    "editable": true
   },
   "source": [
    "<a id='parcube'></a>"
   ]
  },
  {
   "cell_type": "markdown",
   "metadata": {
    "deletable": true,
    "editable": true
   },
   "source": [
    "## ParCube"
   ]
  },
  {
   "cell_type": "code",
   "execution_count": null,
   "metadata": {
    "collapsed": true,
    "deletable": true,
    "editable": true
   },
   "outputs": [],
   "source": []
  },
  {
   "cell_type": "code",
   "execution_count": null,
   "metadata": {
    "collapsed": true,
    "deletable": true,
    "editable": true
   },
   "outputs": [],
   "source": []
  },
  {
   "cell_type": "code",
   "execution_count": null,
   "metadata": {
    "collapsed": true,
    "deletable": true,
    "editable": true
   },
   "outputs": [],
   "source": []
  },
  {
   "cell_type": "code",
   "execution_count": null,
   "metadata": {
    "collapsed": true,
    "deletable": true,
    "editable": true
   },
   "outputs": [],
   "source": []
  },
  {
   "cell_type": "code",
   "execution_count": null,
   "metadata": {
    "collapsed": true,
    "deletable": true,
    "editable": true
   },
   "outputs": [],
   "source": []
  },
  {
   "cell_type": "markdown",
   "metadata": {
    "deletable": true,
    "editable": true
   },
   "source": [
    "<a id='deltacon'></a>"
   ]
  },
  {
   "cell_type": "markdown",
   "metadata": {
    "deletable": true,
    "editable": true
   },
   "source": [
    "## DeltaCon"
   ]
  },
  {
   "cell_type": "code",
   "execution_count": null,
   "metadata": {
    "collapsed": true,
    "deletable": true,
    "editable": true
   },
   "outputs": [],
   "source": []
  },
  {
   "cell_type": "code",
   "execution_count": null,
   "metadata": {
    "collapsed": true,
    "deletable": true,
    "editable": true
   },
   "outputs": [],
   "source": []
  },
  {
   "cell_type": "code",
   "execution_count": null,
   "metadata": {
    "collapsed": true,
    "deletable": true,
    "editable": true
   },
   "outputs": [],
   "source": []
  },
  {
   "cell_type": "code",
   "execution_count": null,
   "metadata": {
    "collapsed": true,
    "deletable": true,
    "editable": true
   },
   "outputs": [],
   "source": []
  },
  {
   "cell_type": "code",
   "execution_count": null,
   "metadata": {
    "collapsed": true,
    "deletable": true,
    "editable": true
   },
   "outputs": [],
   "source": []
  },
  {
   "cell_type": "markdown",
   "metadata": {
    "deletable": true,
    "editable": true
   },
   "source": [
    "<a id='cdadgs'>"
   ]
  },
  {
   "cell_type": "markdown",
   "metadata": {
    "deletable": true,
    "editable": true
   },
   "source": [
    "## Concept Drift and Anomaly Detection in Graph Streams"
   ]
  },
  {
   "cell_type": "code",
   "execution_count": null,
   "metadata": {
    "collapsed": true,
    "deletable": true,
    "editable": true
   },
   "outputs": [],
   "source": []
  },
  {
   "cell_type": "code",
   "execution_count": null,
   "metadata": {
    "collapsed": true,
    "deletable": true,
    "editable": true
   },
   "outputs": [],
   "source": []
  },
  {
   "cell_type": "code",
   "execution_count": null,
   "metadata": {
    "collapsed": true,
    "deletable": true,
    "editable": true
   },
   "outputs": [],
   "source": []
  },
  {
   "cell_type": "code",
   "execution_count": null,
   "metadata": {
    "collapsed": true,
    "deletable": true,
    "editable": true
   },
   "outputs": [],
   "source": []
  },
  {
   "cell_type": "code",
   "execution_count": null,
   "metadata": {
    "collapsed": true,
    "deletable": true,
    "editable": true
   },
   "outputs": [],
   "source": []
  },
  {
   "cell_type": "markdown",
   "metadata": {
    "deletable": true,
    "editable": true
   },
   "source": [
    "<a id='ref'></a>"
   ]
  },
  {
   "cell_type": "markdown",
   "metadata": {
    "deletable": true,
    "editable": true
   },
   "source": [
    "## Reference "
   ]
  },
  {
   "cell_type": "code",
   "execution_count": 16,
   "metadata": {
    "collapsed": true,
    "deletable": true,
    "editable": true
   },
   "outputs": [],
   "source": [
    "g = networkx.Graph()"
   ]
  },
  {
   "cell_type": "code",
   "execution_count": 35,
   "metadata": {
    "collapsed": false,
    "deletable": true,
    "editable": true
   },
   "outputs": [],
   "source": [
    "g.add_edge('a', 'b')\n",
    "g.add_edge('c', 'a')"
   ]
  },
  {
   "cell_type": "code",
   "execution_count": 39,
   "metadata": {
    "collapsed": false,
    "deletable": true,
    "editable": true
   },
   "outputs": [],
   "source": [
    "g['a']['c']['weight'] = 2"
   ]
  },
  {
   "cell_type": "code",
   "execution_count": 43,
   "metadata": {
    "collapsed": false,
    "deletable": true,
    "editable": true
   },
   "outputs": [
    {
     "data": {
      "text/plain": [
       "{'weight': 2}"
      ]
     },
     "execution_count": 43,
     "metadata": {},
     "output_type": "execute_result"
    }
   ],
   "source": [
    "g.get_edge_data('a', 'c')"
   ]
  },
  {
   "cell_type": "code",
   "execution_count": 45,
   "metadata": {
    "collapsed": false,
    "deletable": true,
    "editable": true
   },
   "outputs": [],
   "source": [
    "f = open('twitter_security_2014/Twitter_May_Aug_2014_TerrorSecurity_resolved.txt')"
   ]
  },
  {
   "cell_type": "code",
   "execution_count": 47,
   "metadata": {
    "collapsed": false,
    "deletable": true,
    "editable": true
   },
   "outputs": [],
   "source": [
    "lines = f.readlines()"
   ]
  },
  {
   "cell_type": "code",
   "execution_count": 53,
   "metadata": {
    "collapsed": false,
    "deletable": true,
    "editable": true
   },
   "outputs": [],
   "source": [
    "for i in range(len(lines)):\n",
    "    lines[i] = lines[i].strip().split(' ')"
   ]
  },
  {
   "cell_type": "code",
   "execution_count": 60,
   "metadata": {
    "collapsed": false,
    "deletable": true,
    "editable": true
   },
   "outputs": [],
   "source": [
    "for line in lines:\n",
    "    line[0] = line[0][:-9]"
   ]
  },
  {
   "cell_type": "code",
   "execution_count": 62,
   "metadata": {
    "collapsed": false,
    "deletable": true,
    "editable": true
   },
   "outputs": [],
   "source": [
    "dates = []\n",
    "for line in lines:\n",
    "    dates.append(line[0])"
   ]
  },
  {
   "cell_type": "code",
   "execution_count": 63,
   "metadata": {
    "collapsed": true,
    "deletable": true,
    "editable": true
   },
   "outputs": [],
   "source": [
    "dates = np.unique(dates)"
   ]
  },
  {
   "cell_type": "code",
   "execution_count": 64,
   "metadata": {
    "collapsed": true,
    "deletable": true,
    "editable": true
   },
   "outputs": [],
   "source": [
    "graphs = []\n",
    "for date in dates:\n",
    "    temp = []\n",
    "    for line in lines:\n",
    "        if line[0] == date:\n",
    "            temp.append(' '.join(line[1:]))\n",
    "    graphs.append((date, temp))"
   ]
  },
  {
   "cell_type": "code",
   "execution_count": 71,
   "metadata": {
    "collapsed": false,
    "deletable": true,
    "editable": true
   },
   "outputs": [],
   "source": [
    "for graph in graphs:\n",
    "    f = open('twitter_security_2014/graphs/' + graph[0], 'w')\n",
    "    for line in graph[1]:\n",
    "        f.write(line + '\\n')\n",
    "    f.close()"
   ]
  },
  {
   "cell_type": "code",
   "execution_count": null,
   "metadata": {
    "collapsed": true,
    "deletable": true,
    "editable": true
   },
   "outputs": [],
   "source": [
    "G = nx.Graph()\n",
    "with open(filename) as f:\n",
    "            if header:\n",
    "                next(f)\n",
    "            for line in f:\n",
    "                splitted = line.strip().split(sep)\n",
    "                u = splitted[0]\n",
    "                v = splitted[1]\n",
    "                G.add_edge(u, v)\n",
    "                if weights:\n",
    "                    w = float(splitted[2])\n",
    "                    G[u][v]['weight'] = w"
   ]
  },
  {
   "cell_type": "code",
   "execution_count": 89,
   "metadata": {
    "collapsed": true,
    "deletable": true,
    "editable": true
   },
   "outputs": [],
   "source": [
    "for file in os.listdir('twitter_security_2014/graphs')[1:]:\n",
    "    with open('twitter_security_2014/graphs/'+file) as f:\n",
    "        G = nx.Graph()\n",
    "        for line in f:\n",
    "            splitted = line.strip().split()\n",
    "            u, v = splitted\n",
    "            G.add_edge(u, v)\n",
    "            if 'weight' in G[u][v].keys():\n",
    "                G[u][v]['weight'] += 1\n",
    "            else:\n",
    "                G[u][v]['weight'] = 1\n",
    "                \n",
    "        out = open('twitter_security_2014/graphs_compressed/'+file, 'w')\n",
    "        for edge in G.edges:\n",
    "            w = G.get_edge_data(*edge)['weight']\n",
    "            out.write(' '.join(edge) + ' ' + str(w) + '\\n')\n",
    "        out.close()"
   ]
  },
  {
   "cell_type": "code",
   "execution_count": 49,
   "metadata": {
    "collapsed": false,
    "deletable": true,
    "editable": true
   },
   "outputs": [],
   "source": [
    "for i, date in enumerate(sorted(list(os.listdir('.'))[1:])):\n",
    "    os.rename(date, date + '.txt')"
   ]
  },
  {
   "cell_type": "code",
   "execution_count": 12,
   "metadata": {
    "collapsed": false,
    "deletable": true,
    "editable": true
   },
   "outputs": [],
   "source": [
    "gk = AnonymousWalkKernel.GraphKernel()"
   ]
  },
  {
   "cell_type": "code",
   "execution_count": 13,
   "metadata": {
    "collapsed": false,
    "deletable": true,
    "editable": true
   },
   "outputs": [],
   "source": [
    "gk.read_graphs(folder = './twitter_security_2014/graphs_compressed/', header=False, sep=' ', ext='txt')"
   ]
  },
  {
   "cell_type": "code",
   "execution_count": 137,
   "metadata": {
    "collapsed": false,
    "deletable": true,
    "editable": true
   },
   "outputs": [
    {
     "ename": "IndexError",
     "evalue": "list index out of range",
     "output_type": "error",
     "traceback": [
      "\u001b[0;31m---------------------------------------------------------------------------\u001b[0m",
      "\u001b[0;31mIndexError\u001b[0m                                Traceback (most recent call last)",
      "\u001b[0;32m<ipython-input-137-dd79177dac28>\u001b[0m in \u001b[0;36m<module>\u001b[0;34m()\u001b[0m\n\u001b[0;32m----> 1\u001b[0;31m \u001b[0msorted\u001b[0m\u001b[0;34m(\u001b[0m\u001b[0mos\u001b[0m\u001b[0;34m.\u001b[0m\u001b[0mlistdir\u001b[0m\u001b[0;34m(\u001b[0m\u001b[0;34m'.'\u001b[0m\u001b[0;34m)\u001b[0m\u001b[0;34m[\u001b[0m\u001b[0;36m1\u001b[0m\u001b[0;34m:\u001b[0m\u001b[0;34m]\u001b[0m\u001b[0;34m,\u001b[0m \u001b[0mkey\u001b[0m\u001b[0;34m=\u001b[0m\u001b[0;32mlambda\u001b[0m \u001b[0mg\u001b[0m\u001b[0;34m:\u001b[0m \u001b[0mint\u001b[0m\u001b[0;34m(\u001b[0m\u001b[0mre\u001b[0m\u001b[0;34m.\u001b[0m\u001b[0mfindall\u001b[0m\u001b[0;34m(\u001b[0m\u001b[0;34mr'\\d+'\u001b[0m\u001b[0;34m,\u001b[0m \u001b[0mg\u001b[0m\u001b[0;34m)\u001b[0m\u001b[0;34m[\u001b[0m\u001b[0;36m0\u001b[0m\u001b[0;34m]\u001b[0m\u001b[0;34m)\u001b[0m\u001b[0;34m)\u001b[0m\u001b[0;34m\u001b[0m\u001b[0m\n\u001b[0m",
      "\u001b[0;32m<ipython-input-137-dd79177dac28>\u001b[0m in \u001b[0;36m<lambda>\u001b[0;34m(g)\u001b[0m\n\u001b[0;32m----> 1\u001b[0;31m \u001b[0msorted\u001b[0m\u001b[0;34m(\u001b[0m\u001b[0mos\u001b[0m\u001b[0;34m.\u001b[0m\u001b[0mlistdir\u001b[0m\u001b[0;34m(\u001b[0m\u001b[0;34m'.'\u001b[0m\u001b[0;34m)\u001b[0m\u001b[0;34m[\u001b[0m\u001b[0;36m1\u001b[0m\u001b[0;34m:\u001b[0m\u001b[0;34m]\u001b[0m\u001b[0;34m,\u001b[0m \u001b[0mkey\u001b[0m\u001b[0;34m=\u001b[0m\u001b[0;32mlambda\u001b[0m \u001b[0mg\u001b[0m\u001b[0;34m:\u001b[0m \u001b[0mint\u001b[0m\u001b[0;34m(\u001b[0m\u001b[0mre\u001b[0m\u001b[0;34m.\u001b[0m\u001b[0mfindall\u001b[0m\u001b[0;34m(\u001b[0m\u001b[0;34mr'\\d+'\u001b[0m\u001b[0;34m,\u001b[0m \u001b[0mg\u001b[0m\u001b[0;34m)\u001b[0m\u001b[0;34m[\u001b[0m\u001b[0;36m0\u001b[0m\u001b[0;34m]\u001b[0m\u001b[0;34m)\u001b[0m\u001b[0;34m)\u001b[0m\u001b[0;34m\u001b[0m\u001b[0m\n\u001b[0m",
      "\u001b[0;31mIndexError\u001b[0m: list index out of range"
     ]
    }
   ],
   "source": [
    "sorted(os.listdir('.')[1:], key=lambda g: int(re.findall(r'\\d+', g)[0]))"
   ]
  },
  {
   "cell_type": "code",
   "execution_count": 36,
   "metadata": {
    "collapsed": false,
    "deletable": true,
    "editable": true
   },
   "outputs": [],
   "source": [
    "users = open('twitter_security_2014/unique_users.txt')"
   ]
  },
  {
   "cell_type": "code",
   "execution_count": 37,
   "metadata": {
    "collapsed": true,
    "deletable": true,
    "editable": true
   },
   "outputs": [],
   "source": [
    "users = users.readlines()"
   ]
  },
  {
   "cell_type": "code",
   "execution_count": 42,
   "metadata": {
    "collapsed": false,
    "deletable": true,
    "editable": true
   },
   "outputs": [
    {
     "data": {
      "text/plain": [
       "'####tfiosmusic_abc_online\\n'"
      ]
     },
     "execution_count": 42,
     "metadata": {},
     "output_type": "execute_result"
    }
   ],
   "source": [
    "user2id = {}\n",
    "for i, user in enumerate(users[4]):\n",
    "    user2id[user] = id"
   ]
  },
  {
   "cell_type": "code",
   "execution_count": 55,
   "metadata": {
    "collapsed": false,
    "deletable": true,
    "editable": true
   },
   "outputs": [],
   "source": [
    "relabeled_graphs = [nx.convert_node_labels_to_integers(graph) for graph in gk.graphs]"
   ]
  },
  {
   "cell_type": "code",
   "execution_count": 69,
   "metadata": {
    "collapsed": false,
    "deletable": true,
    "editable": true
   },
   "outputs": [],
   "source": [
    "for name, graph in zip(sorted(os.listdir('./twitter_security_2014/graphs_compressed/')[1:], \n",
    "                              key=lambda g: int(re.findall(r'\\d+', g)[0])), relabeled_graphs):\n",
    "    nx.write_graphml(graph, './twitter_security_2014/relabeled_graphs/' + name[:-4] + '.graphml')"
   ]
  },
  {
   "cell_type": "code",
   "execution_count": 77,
   "metadata": {
    "collapsed": false,
    "deletable": true,
    "editable": true
   },
   "outputs": [
    {
     "name": "stdout",
     "output_type": "stream",
     "text": [
      "Using exact method to get graph embeddings\n",
      "Embeddings matrix of shape: 1 x 15\n",
      "[[ 0.09421885  0.03094098  0.03094098  0.07997817  0.03042405  0.03042405\n",
      "   0.0918881   0.03042405  0.03094836  0.03590345  0.08928281  0.08010962\n",
      "   0.09408725  0.08091602  0.16951327]]\n"
     ]
    }
   ],
   "source": [
    "length = 4\n",
    "gk.embed_graphs(steps = length, keep_last=True)\n",
    "\n",
    "E = gk.embeddings\n",
    "print('Embeddings matrix of shape: {} x {}'.format(E.shape[0], E.shape[1]))\n",
    "print(E[:10, :])"
   ]
  },
  {
   "cell_type": "code",
   "execution_count": 114,
   "metadata": {
    "collapsed": true,
    "deletable": true,
    "editable": true
   },
   "outputs": [],
   "source": [
    "RW = nx.DiGraph()"
   ]
  },
  {
   "cell_type": "code",
   "execution_count": 115,
   "metadata": {
    "collapsed": false,
    "deletable": true,
    "editable": true
   },
   "outputs": [],
   "source": [
    "edges = relabeled_graphs[0][2]\n",
    "total = float(sum([edges[v].get('weight', 1) for v in edges if v != 2]))\n",
    "RW.add_edge(2, 3, weight=0.25)\n",
    "#print edges[28].get('weight',1) / total"
   ]
  },
  {
   "cell_type": "code",
   "execution_count": 167,
   "metadata": {
    "collapsed": false,
    "deletable": true,
    "editable": true
   },
   "outputs": [],
   "source": [
    "res['timestep_77'] = 1"
   ]
  },
  {
   "cell_type": "code",
   "execution_count": 32,
   "metadata": {
    "collapsed": false,
    "deletable": true,
    "editable": true
   },
   "outputs": [
    {
     "name": "stdout",
     "output_type": "stream",
     "text": [
      "Number of graphs: 80\n",
      "Number of words: 877\n",
      "Initialized\n",
      "Epoch: 0\n",
      "Graph 0: 47 nodes\n",
      "Time: 3.38460206985\n",
      "Graph 1: 936 nodes\n",
      "Average loss at step 100: 14308.789578\n",
      "Graph 2: 5482 nodes\n",
      "Graph 3: 3148 nodes\n",
      "Average loss at step 200: 10673.300583\n",
      "Graph 4: 6329 nodes\n",
      "Graph 5: 4003 nodes\n",
      "Average loss at step 300: 8997.842094\n",
      "Graph 6: 2112 nodes\n",
      "Graph 7: 3231 nodes\n",
      "Average loss at step 400: 8387.646454\n",
      "Graph 8: 4717 nodes\n",
      "Graph 9: 3769 nodes\n",
      "Average loss at step 500: 7171.651314\n",
      "Graph 10: 5462 nodes\n",
      "Time: 7.64106917381\n",
      "Graph 11: 4641 nodes\n",
      "Average loss at step 600: 6033.815651\n",
      "Graph 12: 5682 nodes\n",
      "Graph 13: 6341 nodes\n",
      "Average loss at step 700: 5424.231085\n",
      "Graph 14: 6022 nodes\n",
      "Graph 15: 5762 nodes\n",
      "Average loss at step 800: 5348.266245\n",
      "Graph 16: 5423 nodes\n",
      "Graph 17: 5324 nodes\n",
      "Average loss at step 900: 5074.465349\n",
      "Graph 18: 5146 nodes\n",
      "Graph 19: 5459 nodes\n",
      "Average loss at step 1000: 5134.314981\n",
      "Graph 20: 5552 nodes\n",
      "Time: 6.55459308624\n",
      "Graph 21: 5687 nodes\n",
      "Average loss at step 1100: 4732.360830\n",
      "Graph 22: 5592 nodes\n",
      "Graph 23: 5795 nodes\n",
      "Average loss at step 1200: 4370.980774\n",
      "Graph 24: 5084 nodes\n",
      "Graph 25: 6035 nodes\n",
      "Average loss at step 1300: 4156.100718\n",
      "Graph 26: 5500 nodes\n",
      "Graph 27: 5843 nodes\n",
      "Average loss at step 1400: 4038.819340\n",
      "Graph 28: 5928 nodes\n",
      "Graph 29: 4824 nodes\n",
      "Average loss at step 1500: 3961.715036\n",
      "Graph 30: 6197 nodes\n",
      "Time: 11.299492836\n",
      "Graph 31: 5555 nodes\n",
      "Average loss at step 1600: 3557.243569\n",
      "Graph 32: 4852 nodes\n",
      "Graph 33: 6275 nodes\n",
      "Average loss at step 1700: 3611.124073\n",
      "Graph 34: 6428 nodes\n",
      "Graph 35: 6119 nodes\n",
      "Average loss at step 1800: 3230.179514\n",
      "Graph 36: 5771 nodes\n",
      "Graph 37: 6720 nodes\n",
      "Average loss at step 1900: 3474.434210\n",
      "Graph 38: 5162 nodes\n",
      "Graph 39: 5309 nodes\n",
      "Average loss at step 2000: 3359.697636\n",
      "Graph 40: 5282 nodes\n",
      "Time: 6.52520179749\n",
      "Graph 41: 5088 nodes\n",
      "Average loss at step 2100: 3100.779649\n",
      "Graph 42: 4318 nodes\n",
      "Graph 43: 5978 nodes\n",
      "Average loss at step 2200: 2994.750784\n",
      "Graph 44: 6363 nodes\n",
      "Graph 45: 5355 nodes\n",
      "Average loss at step 2300: 3017.982674\n",
      "Graph 46: 4745 nodes\n",
      "Graph 47: 6234 nodes\n",
      "Average loss at step 2400: 2910.345768\n",
      "Graph 48: 6763 nodes\n",
      "Graph 49: 6574 nodes\n",
      "Average loss at step 2500: 2851.516331\n",
      "Graph 50: 6618 nodes\n",
      "Time: 24.9679698944\n",
      "Graph 51: 6428 nodes\n",
      "Average loss at step 2600: 3004.117459\n",
      "Graph 52: 6647 nodes\n",
      "Graph 53: 5759 nodes\n",
      "Average loss at step 2700: 2707.370365\n",
      "Graph 54: 5665 nodes\n",
      "Graph 55: 6572 nodes\n",
      "Average loss at step 2800: 2946.475536\n",
      "Graph 56: 8132 nodes\n",
      "Graph 57: 6885 nodes\n",
      "Average loss at step 2900: 2707.580308\n",
      "Graph 58: 6748 nodes\n",
      "Graph 59: 5967 nodes\n",
      "Average loss at step 3000: 2677.784850\n",
      "Graph 60: 5874 nodes\n",
      "Time: 8.68584394455\n",
      "Graph 61: 5670 nodes\n",
      "Average loss at step 3100: 2470.465303\n",
      "Graph 62: 6019 nodes\n",
      "Graph 63: 6088 nodes\n",
      "Average loss at step 3200: 2494.424031\n",
      "Graph 64: 7254 nodes\n",
      "Graph 65: 6732 nodes\n",
      "Average loss at step 3300: 2312.778494\n",
      "Graph 66: 6467 nodes\n",
      "Graph 67: 6404 nodes\n",
      "Average loss at step 3400: 2495.929415\n",
      "Graph 68: 6413 nodes\n",
      "Graph 69: 6213 nodes\n",
      "Average loss at step 3500: 2458.622639\n",
      "Graph 70: 6991 nodes\n",
      "Time: 9.50312995911\n",
      "Graph 71: 7643 nodes\n",
      "Average loss at step 3600: 2203.612259\n",
      "Graph 72: 6631 nodes\n",
      "Graph 73: 4981 nodes\n",
      "Average loss at step 3700: 2227.466764\n",
      "Graph 74: 6860 nodes\n",
      "Graph 75: 6598 nodes\n",
      "Average loss at step 3800: 2176.638144\n",
      "Graph 76: 7459 nodes\n",
      "Graph 77: 7505 nodes\n",
      "Average loss at step 3900: 2092.043635\n",
      "Graph 78: 6897 nodes\n",
      "Graph 79: 1530 nodes\n",
      "Average loss at step 4000: 2375.112679\n"
     ]
    },
    {
     "data": {
      "text/plain": [
       "<AnonymousWalkEmbeddings.AWE at 0x1a215d6710>"
      ]
     },
     "execution_count": 32,
     "metadata": {},
     "output_type": "execute_result"
    }
   ],
   "source": [
    "dataset = 'relabeled_graphs'\n",
    "\n",
    "batch_size = 100\n",
    "window_size = 8\n",
    "embedding_size_w = 128\n",
    "embedding_size_d = 128\n",
    "num_samples = 32\n",
    "\n",
    "concat = False\n",
    "loss_type = 'sampled_softmax'\n",
    "optimize = 'Adagrad'\n",
    "learning_rate = 1.0\n",
    "root = '../twitter_security_2014/'\n",
    "ext = 'graphml'\n",
    "steps = 7\n",
    "epochs = 1\n",
    "batches_per_epoch = 50\n",
    "candidate_func = None\n",
    "graph_labels = None\n",
    "\n",
    "model = AnonymousWalkEmbeddings.AWE(dataset = dataset, batch_size = batch_size, window_size = window_size,\n",
    "                  embedding_size_w = embedding_size_w, embedding_size_d = embedding_size_d,\n",
    "                  num_samples = num_samples, concat = concat, loss_type = loss_type,\n",
    "                  optimize = optimize, learning_rate = learning_rate, root = root,\n",
    "                  ext = ext, steps = steps, epochs = epochs, batches_per_epoch = batches_per_epoch,\n",
    "                  candidate_func = candidate_func, graph_labels=graph_labels)\n",
    "\n",
    "model.train()"
   ]
  },
  {
   "cell_type": "code",
   "execution_count": 226,
   "metadata": {
    "collapsed": true
   },
   "outputs": [],
   "source": [
    "pca_comp_number = 20"
   ]
  },
  {
   "cell_type": "code",
   "execution_count": 227,
   "metadata": {
    "collapsed": false,
    "deletable": true,
    "editable": true
   },
   "outputs": [],
   "source": [
    "test_set = model.graph_embeddings[:pca_comp_number]"
   ]
  },
  {
   "cell_type": "code",
   "execution_count": 228,
   "metadata": {
    "collapsed": false,
    "deletable": true,
    "editable": true
   },
   "outputs": [
    {
     "data": {
      "text/plain": [
       "PCA(copy=True, iterated_power='auto', n_components=20, random_state=None,\n",
       "  svd_solver='auto', tol=0.0, whiten=False)"
      ]
     },
     "execution_count": 228,
     "metadata": {},
     "output_type": "execute_result"
    }
   ],
   "source": [
    "pca = PCA(n_components=20)\n",
    "pca.fit(test_set)"
   ]
  },
  {
   "cell_type": "code",
   "execution_count": 229,
   "metadata": {
    "collapsed": false
   },
   "outputs": [],
   "source": [
    "projection_set = pca.components_[:]"
   ]
  },
  {
   "cell_type": "code",
   "execution_count": 230,
   "metadata": {
    "collapsed": false,
    "deletable": true,
    "editable": true
   },
   "outputs": [],
   "source": [
    "res = []\n",
    "for embedding in model.graph_embeddings[pca_comp_number:]:\n",
    "    proj = projection_on_set(embedding, projection_set)\n",
    "    res.append(np.linalg.norm(embedding - proj))\n",
    "res = np.array(res)"
   ]
  },
  {
   "cell_type": "code",
   "execution_count": null,
   "metadata": {
    "collapsed": true
   },
   "outputs": [],
   "source": []
  },
  {
   "cell_type": "code",
   "execution_count": 231,
   "metadata": {
    "collapsed": true
   },
   "outputs": [],
   "source": [
    "labels = open('../twitter_security_2014/relabeled_graphs/labels.txt')\n",
    "labels = labels.read()\n",
    "labels = np.array(map(lambda x: int(x), labels.split()))[pca_comp_number:]"
   ]
  },
  {
   "cell_type": "code",
   "execution_count": 235,
   "metadata": {
    "collapsed": false
   },
   "outputs": [
    {
     "data": {
      "image/png": "[encoded data removed]",
      "text/plain": [
       "<matplotlib.figure.Figure at 0x1a28ecce10>"
      ]
     },
     "metadata": {},
     "output_type": "display_data"
    }
   ],
   "source": [
    "fig = plt.figure()\n",
    "plt.scatter(np.where(labels == 0)[0]+pca_comp_number, res[np.where(labels == 0)[0]], label='normal', c='b')\n",
    "plt.scatter(np.where(labels == 1)[0]+pca_comp_number, res[np.where(labels == 1)[0]], label='outlier', c='r')\n",
    "plt.xlabel(\"days\")\n",
    "plt.ylabel(\"$||X - X_{approx}||$\")\n",
    "plt.legend()\n",
    "plt.grid(ls='dashed')"
   ]
  },
  {
   "cell_type": "markdown",
   "metadata": {
    "deletable": true,
    "editable": true
   },
   "source": [
    "# Всякие разные вопросы, возникшие по ходу \n",
    "\n",
    "* можно ли считать AUC для такой задачи, чтобы сравнивать модели?"
   ]
  },
  {
   "cell_type": "code",
   "execution_count": null,
   "metadata": {
    "collapsed": true,
    "deletable": true,
    "editable": true
   },
   "outputs": [],
   "source": []
  }
 ],
 "metadata": {
  "kernelspec": {
   "display_name": "kernel27",
   "language": "python",
   "name": "kernel27"
  },
  "language_info": {
   "codemirror_mode": {
    "name": "ipython",
    "version": 2
   },
   "file_extension": ".py",
   "mimetype": "text/x-python",
   "name": "python",
   "nbconvert_exporter": "python",
   "pygments_lexer": "ipython2",
   "version": "2.7.13"
  },
  "toc": {
   "nav_menu": {},
   "number_sections": true,
   "sideBar": true,
   "skip_h1_title": false,
   "title_cell": "Table of Contents",
   "title_sidebar": "Contents",
   "toc_cell": false,
   "toc_position": {},
   "toc_section_display": true,
   "toc_window_display": false
  },
  "varInspector": {
   "cols": {
    "lenName": 16,
    "lenType": 16,
    "lenVar": 40
   },
   "kernels_config": {
    "python": {
     "delete_cmd_postfix": "",
     "delete_cmd_prefix": "del ",
     "library": "var_list.py",
     "varRefreshCmd": "print(var_dic_list())"
    },
    "r": {
     "delete_cmd_postfix": ") ",
     "delete_cmd_prefix": "rm(",
     "library": "var_list.r",
     "varRefreshCmd": "cat(var_dic_list()) "
    }
   },
   "types_to_exclude": [
    "module",
    "function",
    "builtin_function_or_method",
    "instance",
    "_Feature"
   ],
   "window_display": false
  }
 },
 "nbformat": 4,
 "nbformat_minor": 2
}
