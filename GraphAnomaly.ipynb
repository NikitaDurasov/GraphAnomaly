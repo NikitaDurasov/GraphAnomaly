{
 "cells": [
  {
   "cell_type": "code",
   "execution_count": 15,
   "metadata": {
    "collapsed": false,
    "deletable": true,
    "editable": true
   },
   "outputs": [
    {
     "name": "stdout",
     "output_type": "stream",
     "text": [
      "The autoreload extension is already loaded. To reload it, use:\n",
      "  %reload_ext autoreload\n"
     ]
    }
   ],
   "source": [
    "import pandas as pd \n",
    "import numpy as np\n",
    "import matplotlib.pyplot as plt \n",
    "import networkx as nx\n",
    "import os\n",
    "import re\n",
    "import numpy as np\n",
    "import seaborn\n",
    "import tensorflow as tf\n",
    "import datetime\n",
    "\n",
    "from sklearn.preprocessing import scale\n",
    "from sklearn.decomposition import PCA\n",
    "from sklearn.metrics import recall_score, precision_score\n",
    "\n",
    "%matplotlib inline \n",
    "%load_ext autoreload\n",
    "%autoreload 2"
   ]
  },
  {
   "cell_type": "code",
   "execution_count": 2,
   "metadata": {
    "collapsed": false,
    "deletable": true,
    "editable": true
   },
   "outputs": [],
   "source": [
    "def projection_on_set(vector, set_of_vectors):\n",
    "    projection_vector = np.zeros(*vector.shape) \n",
    "    for ort_vector in set_of_vectors:\n",
    "        projection_vector += np.dot(vector, ort_vector) / np.linalg.norm(ort_vector) * ort_vector\n",
    "    return projection_vector"
   ]
  },
  {
   "cell_type": "code",
   "execution_count": 6,
   "metadata": {
    "collapsed": false,
    "deletable": true,
    "editable": true
   },
   "outputs": [],
   "source": [
    "import AnonymousWalkEmbeddings, AnonymousWalkKernel"
   ]
  },
  {
   "cell_type": "code",
   "execution_count": 7,
   "metadata": {
    "collapsed": false,
    "deletable": true,
    "editable": true
   },
   "outputs": [
    {
     "data": {
      "text/plain": [
       "<module 'AnonymousWalkEmbeddings' from 'AnonymousWalkEmbeddings.pyc'>"
      ]
     },
     "execution_count": 7,
     "metadata": {},
     "output_type": "execute_result"
    }
   ],
   "source": [
    "reload(AnonymousWalkEmbeddings)"
   ]
  },
  {
   "cell_type": "code",
   "execution_count": 8,
   "metadata": {
    "collapsed": false,
    "deletable": true,
    "editable": true
   },
   "outputs": [
    {
     "data": {
      "text/plain": [
       "<module 'AnonymousWalkKernel' from 'AnonymousWalkKernel.pyc'>"
      ]
     },
     "execution_count": 8,
     "metadata": {},
     "output_type": "execute_result"
    }
   ],
   "source": [
    "reload(AnonymousWalkKernel)"
   ]
  },
  {
   "cell_type": "markdown",
   "metadata": {
    "deletable": true,
    "editable": true
   },
   "source": [
    "# Детектирование аномалий в потоках графов "
   ]
  },
  {
   "cell_type": "markdown",
   "metadata": {
    "deletable": true,
    "editable": true
   },
   "source": [
    "## Описание \n",
    "\n",
    "В этом блоке будем сравнивать алгоритмы, которые могут выделять аномальные элементы в потоках графов.\n",
    "Для сравнения будем использовать алгоритмы [ParCube](#parcube), [DeltaCon](#deltacon), [Concept Drift and Anomaly Detection in Graph Streams](#cdadgs) и [наш](#ref) алгоритм\n",
    "\n",
    "Будем проводить эксперименты на датасете [TwitterSecurity2014](http://odds.cs.stonybrook.edu/twittersecurity-dataset/)\n",
    "* количество нод ~ 130 к\n",
    "* количество таймстемпов ~ 120 \n",
    "* 20 аномальных дней \n",
    "\n",
    "Сам датасет состоит из строк вида: user_1 user_2 number_of_co-mentions\n",
    "\n",
    "В качестве метрики для сравнения будем считать precision/recall \n"
   ]
  },
  {
   "cell_type": "code",
   "execution_count": null,
   "metadata": {
    "collapsed": true,
    "deletable": true,
    "editable": true
   },
   "outputs": [],
   "source": []
  },
  {
   "cell_type": "code",
   "execution_count": null,
   "metadata": {
    "collapsed": true,
    "deletable": true,
    "editable": true
   },
   "outputs": [],
   "source": []
  },
  {
   "cell_type": "code",
   "execution_count": null,
   "metadata": {
    "collapsed": true,
    "deletable": true,
    "editable": true
   },
   "outputs": [],
   "source": []
  },
  {
   "cell_type": "code",
   "execution_count": null,
   "metadata": {
    "collapsed": true,
    "deletable": true,
    "editable": true
   },
   "outputs": [],
   "source": []
  },
  {
   "cell_type": "markdown",
   "metadata": {
    "deletable": true,
    "editable": true
   },
   "source": [
    "<a id='parcube'></a>"
   ]
  },
  {
   "cell_type": "markdown",
   "metadata": {
    "deletable": true,
    "editable": true
   },
   "source": [
    "## ParCube"
   ]
  },
  {
   "cell_type": "code",
   "execution_count": null,
   "metadata": {
    "collapsed": true,
    "deletable": true,
    "editable": true
   },
   "outputs": [],
   "source": []
  },
  {
   "cell_type": "code",
   "execution_count": null,
   "metadata": {
    "collapsed": true,
    "deletable": true,
    "editable": true
   },
   "outputs": [],
   "source": []
  },
  {
   "cell_type": "code",
   "execution_count": null,
   "metadata": {
    "collapsed": true,
    "deletable": true,
    "editable": true
   },
   "outputs": [],
   "source": []
  },
  {
   "cell_type": "code",
   "execution_count": null,
   "metadata": {
    "collapsed": true,
    "deletable": true,
    "editable": true
   },
   "outputs": [],
   "source": []
  },
  {
   "cell_type": "code",
   "execution_count": null,
   "metadata": {
    "collapsed": true,
    "deletable": true,
    "editable": true
   },
   "outputs": [],
   "source": []
  },
  {
   "cell_type": "markdown",
   "metadata": {
    "deletable": true,
    "editable": true
   },
   "source": [
    "<a id='deltacon'></a>"
   ]
  },
  {
   "cell_type": "markdown",
   "metadata": {
    "deletable": true,
    "editable": true
   },
   "source": [
    "## DeltaCon"
   ]
  },
  {
   "cell_type": "code",
   "execution_count": null,
   "metadata": {
    "collapsed": true,
    "deletable": true,
    "editable": true
   },
   "outputs": [],
   "source": []
  },
  {
   "cell_type": "code",
   "execution_count": null,
   "metadata": {
    "collapsed": true,
    "deletable": true,
    "editable": true
   },
   "outputs": [],
   "source": []
  },
  {
   "cell_type": "code",
   "execution_count": null,
   "metadata": {
    "collapsed": true,
    "deletable": true,
    "editable": true
   },
   "outputs": [],
   "source": []
  },
  {
   "cell_type": "code",
   "execution_count": null,
   "metadata": {
    "collapsed": true,
    "deletable": true,
    "editable": true
   },
   "outputs": [],
   "source": []
  },
  {
   "cell_type": "code",
   "execution_count": null,
   "metadata": {
    "collapsed": true,
    "deletable": true,
    "editable": true
   },
   "outputs": [],
   "source": []
  },
  {
   "cell_type": "markdown",
   "metadata": {
    "deletable": true,
    "editable": true
   },
   "source": [
    "<a id='cdadgs'>"
   ]
  },
  {
   "cell_type": "markdown",
   "metadata": {
    "deletable": true,
    "editable": true
   },
   "source": [
    "## Concept Drift and Anomaly Detection in Graph Streams"
   ]
  },
  {
   "cell_type": "code",
   "execution_count": null,
   "metadata": {
    "collapsed": true,
    "deletable": true,
    "editable": true
   },
   "outputs": [],
   "source": []
  },
  {
   "cell_type": "code",
   "execution_count": null,
   "metadata": {
    "collapsed": true,
    "deletable": true,
    "editable": true
   },
   "outputs": [],
   "source": []
  },
  {
   "cell_type": "code",
   "execution_count": null,
   "metadata": {
    "collapsed": true,
    "deletable": true,
    "editable": true
   },
   "outputs": [],
   "source": []
  },
  {
   "cell_type": "code",
   "execution_count": null,
   "metadata": {
    "collapsed": true,
    "deletable": true,
    "editable": true
   },
   "outputs": [],
   "source": []
  },
  {
   "cell_type": "code",
   "execution_count": null,
   "metadata": {
    "collapsed": true,
    "deletable": true,
    "editable": true
   },
   "outputs": [],
   "source": []
  },
  {
   "cell_type": "markdown",
   "metadata": {
    "deletable": true,
    "editable": true
   },
   "source": [
    "<a id='ref'></a>"
   ]
  },
  {
   "cell_type": "markdown",
   "metadata": {
    "deletable": true,
    "editable": true
   },
   "source": [
    "## Reference "
   ]
  },
  {
   "cell_type": "markdown",
   "metadata": {
    "deletable": true,
    "editable": true
   },
   "source": [
    "Сначала пробмуем поучить модель с такими же параметрами, как на MUTAG из туториала"
   ]
  },
  {
   "cell_type": "code",
   "execution_count": 63,
   "metadata": {
    "collapsed": false,
    "deletable": true,
    "editable": true
   },
   "outputs": [
    {
     "name": "stdout",
     "output_type": "stream",
     "text": [
      "Number of graphs: 80\n",
      "Number of words: 52\n",
      "Initialized\n",
      "Epoch: 0\n",
      "Graph 0: 47 nodes\n",
      "Time: 0.84453701973\n",
      "Graph 1: 936 nodes\n",
      "Graph 2: 5482 nodes\n",
      "Graph 3: 3148 nodes\n",
      "Graph 4: 6329 nodes\n",
      "Graph 5: 4003 nodes\n",
      "Graph 6: 2112 nodes\n",
      "Graph 7: 3231 nodes\n",
      "Graph 8: 4717 nodes\n",
      "Graph 9: 3769 nodes\n",
      "Graph 10: 5462 nodes\n",
      "Time: 2.78222417831\n",
      "Graph 11: 4641 nodes\n",
      "Graph 12: 5682 nodes\n",
      "Graph 13: 6341 nodes\n",
      "Graph 14: 6022 nodes\n",
      "Graph 15: 5762 nodes\n",
      "Graph 16: 5423 nodes\n",
      "Graph 17: 5324 nodes\n",
      "Graph 18: 5146 nodes\n",
      "Graph 19: 5459 nodes\n",
      "Graph 20: 5552 nodes\n",
      "Time: 1.83579015732\n",
      "Graph 21: 5687 nodes\n",
      "Graph 22: 5592 nodes\n",
      "Graph 23: 5795 nodes\n",
      "Graph 24: 5084 nodes\n",
      "Graph 25: 6035 nodes\n",
      "Graph 26: 5500 nodes\n",
      "Graph 27: 5843 nodes\n",
      "Graph 28: 5928 nodes\n",
      "Graph 29: 4824 nodes\n",
      "Graph 30: 6197 nodes\n",
      "Time: 2.6672000885\n",
      "Graph 31: 5555 nodes\n",
      "Graph 32: 4852 nodes\n",
      "Graph 33: 6275 nodes\n",
      "Average loss at step 100: 4941.579623\n",
      "Graph 34: 6428 nodes\n",
      "Graph 35: 6119 nodes\n",
      "Graph 36: 5771 nodes\n",
      "Graph 37: 6720 nodes\n",
      "Graph 38: 5162 nodes\n",
      "Graph 39: 5309 nodes\n",
      "Graph 40: 5282 nodes\n",
      "Time: 1.74616599083\n",
      "Graph 41: 5088 nodes\n",
      "Graph 42: 4318 nodes\n",
      "Graph 43: 5978 nodes\n",
      "Graph 44: 6363 nodes\n",
      "Graph 45: 5355 nodes\n",
      "Graph 46: 4745 nodes\n",
      "Graph 47: 6234 nodes\n",
      "Graph 48: 6763 nodes\n",
      "Graph 49: 6574 nodes\n",
      "Graph 50: 6618 nodes\n",
      "Time: 2.315969944\n",
      "Graph 51: 6428 nodes\n",
      "Graph 52: 6647 nodes\n",
      "Graph 53: 5759 nodes\n",
      "Graph 54: 5665 nodes\n",
      "Graph 55: 6572 nodes\n",
      "Graph 56: 8132 nodes\n",
      "Graph 57: 6885 nodes\n",
      "Graph 58: 6748 nodes\n",
      "Graph 59: 5967 nodes\n",
      "Graph 60: 5874 nodes\n",
      "Time: 1.97036099434\n",
      "Graph 61: 5670 nodes\n",
      "Graph 62: 6019 nodes\n",
      "Graph 63: 6088 nodes\n",
      "Graph 64: 7254 nodes\n",
      "Graph 65: 6732 nodes\n",
      "Graph 66: 6467 nodes\n",
      "Average loss at step 200: 1887.539165\n",
      "Graph 67: 6404 nodes\n",
      "Graph 68: 6413 nodes\n",
      "Graph 69: 6213 nodes\n",
      "Graph 70: 6991 nodes\n",
      "Time: 1.93992090225\n",
      "Graph 71: 7643 nodes\n",
      "Graph 72: 6631 nodes\n",
      "Graph 73: 4981 nodes\n",
      "Graph 74: 6860 nodes\n",
      "Graph 75: 6598 nodes\n",
      "Graph 76: 7459 nodes\n",
      "Graph 77: 7505 nodes\n",
      "Graph 78: 6897 nodes\n",
      "Graph 79: 1530 nodes\n",
      "Epoch: 1\n",
      "Graph 0: 47 nodes\n",
      "Time: 0.159897089005\n",
      "Graph 1: 936 nodes\n",
      "Graph 2: 5482 nodes\n",
      "Graph 3: 3148 nodes\n",
      "Graph 4: 6329 nodes\n",
      "Graph 5: 4003 nodes\n",
      "Graph 6: 2112 nodes\n",
      "Graph 7: 3231 nodes\n",
      "Graph 8: 4717 nodes\n",
      "Graph 9: 3769 nodes\n",
      "Graph 10: 5462 nodes\n",
      "Time: 1.77214384079\n",
      "Graph 11: 4641 nodes\n",
      "Graph 12: 5682 nodes\n",
      "Graph 13: 6341 nodes\n",
      "Graph 14: 6022 nodes\n",
      "Graph 15: 5762 nodes\n",
      "Graph 16: 5423 nodes\n",
      "Graph 17: 5324 nodes\n",
      "Graph 18: 5146 nodes\n",
      "Graph 19: 5459 nodes\n",
      "Average loss at step 300: 1478.794486\n",
      "Graph 20: 5552 nodes\n",
      "Time: 1.48997592926\n",
      "Graph 21: 5687 nodes\n",
      "Graph 22: 5592 nodes\n",
      "Graph 23: 5795 nodes\n",
      "Graph 24: 5084 nodes\n",
      "Graph 25: 6035 nodes\n",
      "Graph 26: 5500 nodes\n",
      "Graph 27: 5843 nodes\n",
      "Graph 28: 5928 nodes\n",
      "Graph 29: 4824 nodes\n",
      "Graph 30: 6197 nodes\n",
      "Time: 1.90736603737\n",
      "Graph 31: 5555 nodes\n",
      "Graph 32: 4852 nodes\n",
      "Graph 33: 6275 nodes\n",
      "Graph 34: 6428 nodes\n",
      "Graph 35: 6119 nodes\n",
      "Graph 36: 5771 nodes\n",
      "Graph 37: 6720 nodes\n",
      "Graph 38: 5162 nodes\n",
      "Graph 39: 5309 nodes\n",
      "Graph 40: 5282 nodes\n",
      "Time: 1.41277909279\n",
      "Graph 41: 5088 nodes\n",
      "Graph 42: 4318 nodes\n",
      "Graph 43: 5978 nodes\n",
      "Graph 44: 6363 nodes\n",
      "Graph 45: 5355 nodes\n",
      "Graph 46: 4745 nodes\n",
      "Graph 47: 6234 nodes\n",
      "Graph 48: 6763 nodes\n",
      "Graph 49: 6574 nodes\n",
      "Graph 50: 6618 nodes\n",
      "Time: 2.67478489876\n",
      "Graph 51: 6428 nodes\n",
      "Graph 52: 6647 nodes\n",
      "Graph 53: 5759 nodes\n",
      "Average loss at step 400: 1120.787379\n",
      "Graph 54: 5665 nodes\n",
      "Graph 55: 6572 nodes\n",
      "Graph 56: 8132 nodes\n",
      "Graph 57: 6885 nodes\n",
      "Graph 58: 6748 nodes\n",
      "Graph 59: 5967 nodes\n",
      "Graph 60: 5874 nodes\n",
      "Time: 1.70146894455\n",
      "Graph 61: 5670 nodes\n",
      "Graph 62: 6019 nodes\n",
      "Graph 63: 6088 nodes\n",
      "Graph 64: 7254 nodes\n",
      "Graph 65: 6732 nodes\n",
      "Graph 66: 6467 nodes\n",
      "Graph 67: 6404 nodes\n",
      "Graph 68: 6413 nodes\n",
      "Graph 69: 6213 nodes\n",
      "Graph 70: 6991 nodes\n",
      "Time: 2.09486198425\n",
      "Graph 71: 7643 nodes\n",
      "Graph 72: 6631 nodes\n",
      "Graph 73: 4981 nodes\n",
      "Graph 74: 6860 nodes\n",
      "Graph 75: 6598 nodes\n",
      "Graph 76: 7459 nodes\n",
      "Graph 77: 7505 nodes\n",
      "Graph 78: 6897 nodes\n",
      "Graph 79: 1530 nodes\n",
      "Epoch: 2\n",
      "Graph 0: 47 nodes\n",
      "Time: 0.165393829346\n",
      "Graph 1: 936 nodes\n",
      "Graph 2: 5482 nodes\n",
      "Graph 3: 3148 nodes\n",
      "Graph 4: 6329 nodes\n",
      "Graph 5: 4003 nodes\n",
      "Graph 6: 2112 nodes\n",
      "Average loss at step 500: 980.909639\n",
      "Graph 7: 3231 nodes\n",
      "Graph 8: 4717 nodes\n",
      "Graph 9: 3769 nodes\n",
      "Graph 10: 5462 nodes\n",
      "Time: 1.82498598099\n",
      "Graph 11: 4641 nodes\n",
      "Graph 12: 5682 nodes\n",
      "Graph 13: 6341 nodes\n",
      "Graph 14: 6022 nodes\n",
      "Graph 15: 5762 nodes\n",
      "Graph 16: 5423 nodes\n",
      "Graph 17: 5324 nodes\n",
      "Graph 18: 5146 nodes\n",
      "Graph 19: 5459 nodes\n",
      "Graph 20: 5552 nodes\n",
      "Time: 1.69409918785\n",
      "Graph 21: 5687 nodes\n",
      "Graph 22: 5592 nodes\n",
      "Graph 23: 5795 nodes\n",
      "Graph 24: 5084 nodes\n",
      "Graph 25: 6035 nodes\n",
      "Graph 26: 5500 nodes\n",
      "Graph 27: 5843 nodes\n",
      "Graph 28: 5928 nodes\n",
      "Graph 29: 4824 nodes\n",
      "Graph 30: 6197 nodes\n",
      "Time: 2.94483208656\n",
      "Graph 31: 5555 nodes\n",
      "Graph 32: 4852 nodes\n",
      "Graph 33: 6275 nodes\n",
      "Graph 34: 6428 nodes\n",
      "Graph 35: 6119 nodes\n",
      "Graph 36: 5771 nodes\n",
      "Graph 37: 6720 nodes\n",
      "Graph 38: 5162 nodes\n",
      "Graph 39: 5309 nodes\n",
      "Average loss at step 600: 712.164746\n",
      "Graph 40: 5282 nodes\n",
      "Time: 1.53684711456\n",
      "Graph 41: 5088 nodes\n",
      "Graph 42: 4318 nodes\n",
      "Graph 43: 5978 nodes\n",
      "Graph 44: 6363 nodes\n",
      "Graph 45: 5355 nodes\n",
      "Graph 46: 4745 nodes\n",
      "Graph 47: 6234 nodes\n",
      "Graph 48: 6763 nodes\n",
      "Graph 49: 6574 nodes\n",
      "Graph 50: 6618 nodes\n",
      "Time: 2.66905093193\n",
      "Graph 51: 6428 nodes\n",
      "Graph 52: 6647 nodes\n",
      "Graph 53: 5759 nodes\n",
      "Graph 54: 5665 nodes\n",
      "Graph 55: 6572 nodes\n",
      "Graph 56: 8132 nodes\n",
      "Graph 57: 6885 nodes\n",
      "Graph 58: 6748 nodes\n",
      "Graph 59: 5967 nodes\n",
      "Graph 60: 5874 nodes\n",
      "Time: 2.79645204544\n",
      "Graph 61: 5670 nodes\n",
      "Graph 62: 6019 nodes\n",
      "Graph 63: 6088 nodes\n",
      "Graph 64: 7254 nodes\n",
      "Graph 65: 6732 nodes\n",
      "Graph 66: 6467 nodes\n",
      "Graph 67: 6404 nodes\n",
      "Graph 68: 6413 nodes\n",
      "Graph 69: 6213 nodes\n",
      "Graph 70: 6991 nodes\n",
      "Time: 2.35687184334\n",
      "Graph 71: 7643 nodes\n",
      "Graph 72: 6631 nodes\n",
      "Graph 73: 4981 nodes\n",
      "Average loss at step 700: 689.709881\n",
      "Graph 74: 6860 nodes\n",
      "Graph 75: 6598 nodes\n",
      "Graph 76: 7459 nodes\n",
      "Graph 77: 7505 nodes\n",
      "Graph 78: 6897 nodes\n",
      "Graph 79: 1530 nodes\n",
      "Epoch: 3\n",
      "Graph 0: 47 nodes\n",
      "Time: 0.193202018738\n",
      "Graph 1: 936 nodes\n",
      "Graph 2: 5482 nodes\n",
      "Graph 3: 3148 nodes\n",
      "Graph 4: 6329 nodes\n",
      "Graph 5: 4003 nodes\n",
      "Graph 6: 2112 nodes\n",
      "Graph 7: 3231 nodes\n",
      "Graph 8: 4717 nodes\n",
      "Graph 9: 3769 nodes\n",
      "Graph 10: 5462 nodes\n",
      "Time: 1.81527781487\n",
      "Graph 11: 4641 nodes\n",
      "Graph 12: 5682 nodes\n",
      "Graph 13: 6341 nodes\n",
      "Graph 14: 6022 nodes\n",
      "Graph 15: 5762 nodes\n",
      "Graph 16: 5423 nodes\n",
      "Graph 17: 5324 nodes\n",
      "Graph 18: 5146 nodes\n",
      "Graph 19: 5459 nodes\n",
      "Graph 20: 5552 nodes\n",
      "Time: 2.16881585121\n",
      "Graph 21: 5687 nodes\n",
      "Graph 22: 5592 nodes\n",
      "Graph 23: 5795 nodes\n",
      "Graph 24: 5084 nodes\n",
      "Graph 25: 6035 nodes\n",
      "Graph 26: 5500 nodes\n",
      "Average loss at step 800: 514.849191\n",
      "Graph 27: 5843 nodes\n",
      "Graph 28: 5928 nodes\n",
      "Graph 29: 4824 nodes\n",
      "Graph 30: 6197 nodes\n",
      "Time: 2.9044148922\n",
      "Graph 31: 5555 nodes\n",
      "Graph 32: 4852 nodes\n",
      "Graph 33: 6275 nodes\n",
      "Graph 34: 6428 nodes\n",
      "Graph 35: 6119 nodes\n",
      "Graph 36: 5771 nodes\n",
      "Graph 37: 6720 nodes\n",
      "Graph 38: 5162 nodes\n",
      "Graph 39: 5309 nodes\n",
      "Graph 40: 5282 nodes\n",
      "Time: 2.22330498695\n",
      "Graph 41: 5088 nodes\n",
      "Graph 42: 4318 nodes\n",
      "Graph 43: 5978 nodes\n",
      "Graph 44: 6363 nodes\n",
      "Graph 45: 5355 nodes\n",
      "Graph 46: 4745 nodes\n",
      "Graph 47: 6234 nodes\n",
      "Graph 48: 6763 nodes\n",
      "Graph 49: 6574 nodes\n",
      "Graph 50: 6618 nodes\n",
      "Time: 3.26304793358\n",
      "Graph 51: 6428 nodes\n",
      "Graph 52: 6647 nodes\n",
      "Graph 53: 5759 nodes\n",
      "Graph 54: 5665 nodes\n",
      "Graph 55: 6572 nodes\n",
      "Graph 56: 8132 nodes\n",
      "Graph 57: 6885 nodes\n",
      "Graph 58: 6748 nodes\n",
      "Graph 59: 5967 nodes\n",
      "Average loss at step 900: 475.560714\n",
      "Graph 60: 5874 nodes\n",
      "Time: 2.01445508003\n",
      "Graph 61: 5670 nodes\n",
      "Graph 62: 6019 nodes\n",
      "Graph 63: 6088 nodes\n",
      "Graph 64: 7254 nodes\n",
      "Graph 65: 6732 nodes\n",
      "Graph 66: 6467 nodes\n",
      "Graph 67: 6404 nodes\n",
      "Graph 68: 6413 nodes\n",
      "Graph 69: 6213 nodes\n",
      "Graph 70: 6991 nodes\n",
      "Time: 2.25072407722\n",
      "Graph 71: 7643 nodes\n",
      "Graph 72: 6631 nodes\n",
      "Graph 73: 4981 nodes\n",
      "Graph 74: 6860 nodes\n",
      "Graph 75: 6598 nodes\n",
      "Graph 76: 7459 nodes\n",
      "Graph 77: 7505 nodes\n",
      "Graph 78: 6897 nodes\n",
      "Graph 79: 1530 nodes\n",
      "Epoch: 4\n",
      "Graph 0: 47 nodes\n",
      "Time: 0.229862928391\n",
      "Graph 1: 936 nodes\n",
      "Graph 2: 5482 nodes\n",
      "Graph 3: 3148 nodes\n",
      "Graph 4: 6329 nodes\n",
      "Graph 5: 4003 nodes\n",
      "Graph 6: 2112 nodes\n",
      "Graph 7: 3231 nodes\n",
      "Graph 8: 4717 nodes\n",
      "Graph 9: 3769 nodes\n",
      "Graph 10: 5462 nodes\n",
      "Time: 1.91278386116\n",
      "Graph 11: 4641 nodes\n",
      "Graph 12: 5682 nodes\n",
      "Graph 13: 6341 nodes\n",
      "Average loss at step 1000: 413.508713\n",
      "Graph 14: 6022 nodes\n",
      "Graph 15: 5762 nodes\n",
      "Graph 16: 5423 nodes\n",
      "Graph 17: 5324 nodes\n",
      "Graph 18: 5146 nodes\n",
      "Graph 19: 5459 nodes\n",
      "Graph 20: 5552 nodes\n",
      "Time: 1.45752000809\n",
      "Graph 21: 5687 nodes\n",
      "Graph 22: 5592 nodes\n",
      "Graph 23: 5795 nodes\n",
      "Graph 24: 5084 nodes\n",
      "Graph 25: 6035 nodes\n",
      "Graph 26: 5500 nodes\n",
      "Graph 27: 5843 nodes\n",
      "Graph 28: 5928 nodes\n",
      "Graph 29: 4824 nodes\n",
      "Graph 30: 6197 nodes\n",
      "Time: 2.68348193169\n",
      "Graph 31: 5555 nodes\n",
      "Graph 32: 4852 nodes\n",
      "Graph 33: 6275 nodes\n",
      "Graph 34: 6428 nodes\n",
      "Graph 35: 6119 nodes\n",
      "Graph 36: 5771 nodes\n",
      "Graph 37: 6720 nodes\n",
      "Graph 38: 5162 nodes\n",
      "Graph 39: 5309 nodes\n",
      "Graph 40: 5282 nodes\n",
      "Time: 1.85262703896\n",
      "Graph 41: 5088 nodes\n",
      "Graph 42: 4318 nodes\n",
      "Graph 43: 5978 nodes\n",
      "Graph 44: 6363 nodes\n",
      "Graph 45: 5355 nodes\n",
      "Graph 46: 4745 nodes\n",
      "Average loss at step 1100: 345.811602\n",
      "Graph 47: 6234 nodes\n",
      "Graph 48: 6763 nodes\n",
      "Graph 49: 6574 nodes\n",
      "Graph 50: 6618 nodes\n",
      "Time: 3.14878988266\n",
      "Graph 51: 6428 nodes\n",
      "Graph 52: 6647 nodes\n",
      "Graph 53: 5759 nodes\n",
      "Graph 54: 5665 nodes\n",
      "Graph 55: 6572 nodes\n",
      "Graph 56: 8132 nodes\n",
      "Graph 57: 6885 nodes\n",
      "Graph 58: 6748 nodes\n",
      "Graph 59: 5967 nodes\n",
      "Graph 60: 5874 nodes\n",
      "Time: 1.97430205345\n",
      "Graph 61: 5670 nodes\n",
      "Graph 62: 6019 nodes\n",
      "Graph 63: 6088 nodes\n",
      "Graph 64: 7254 nodes\n",
      "Graph 65: 6732 nodes\n",
      "Graph 66: 6467 nodes\n",
      "Graph 67: 6404 nodes\n",
      "Graph 68: 6413 nodes\n",
      "Graph 69: 6213 nodes\n",
      "Graph 70: 6991 nodes\n",
      "Time: 3.19897413254\n",
      "Graph 71: 7643 nodes\n",
      "Graph 72: 6631 nodes\n",
      "Graph 73: 4981 nodes\n",
      "Graph 74: 6860 nodes\n",
      "Graph 75: 6598 nodes\n",
      "Graph 76: 7459 nodes\n",
      "Graph 77: 7505 nodes\n",
      "Graph 78: 6897 nodes\n",
      "Graph 79: 1530 nodes\n",
      "Average loss at step 1200: 348.414162\n",
      "Epoch: 5\n",
      "Graph 0: 47 nodes\n",
      "Time: 0.331255912781\n",
      "Graph 1: 936 nodes\n",
      "Graph 2: 5482 nodes\n",
      "Graph 3: 3148 nodes\n",
      "Graph 4: 6329 nodes\n",
      "Graph 5: 4003 nodes\n",
      "Graph 6: 2112 nodes\n",
      "Graph 7: 3231 nodes\n",
      "Graph 8: 4717 nodes\n",
      "Graph 9: 3769 nodes\n",
      "Graph 10: 5462 nodes\n",
      "Time: 2.09770512581\n",
      "Graph 11: 4641 nodes\n",
      "Graph 12: 5682 nodes\n",
      "Graph 13: 6341 nodes\n",
      "Graph 14: 6022 nodes\n",
      "Graph 15: 5762 nodes\n",
      "Graph 16: 5423 nodes\n",
      "Graph 17: 5324 nodes\n",
      "Graph 18: 5146 nodes\n",
      "Graph 19: 5459 nodes\n",
      "Graph 20: 5552 nodes\n",
      "Time: 1.74709892273\n",
      "Graph 21: 5687 nodes\n",
      "Graph 22: 5592 nodes\n",
      "Graph 23: 5795 nodes\n",
      "Graph 24: 5084 nodes\n",
      "Graph 25: 6035 nodes\n",
      "Graph 26: 5500 nodes\n",
      "Graph 27: 5843 nodes\n",
      "Graph 28: 5928 nodes\n",
      "Graph 29: 4824 nodes\n",
      "Graph 30: 6197 nodes\n",
      "Time: 2.6842880249\n",
      "Graph 31: 5555 nodes\n",
      "Graph 32: 4852 nodes\n",
      "Graph 33: 6275 nodes\n",
      "Average loss at step 1300: 299.739367\n",
      "Graph 34: 6428 nodes\n",
      "Graph 35: 6119 nodes\n",
      "Graph 36: 5771 nodes\n",
      "Graph 37: 6720 nodes\n",
      "Graph 38: 5162 nodes\n",
      "Graph 39: 5309 nodes\n",
      "Graph 40: 5282 nodes\n",
      "Time: 1.93111610413\n",
      "Graph 41: 5088 nodes\n",
      "Graph 42: 4318 nodes\n",
      "Graph 43: 5978 nodes\n",
      "Graph 44: 6363 nodes\n",
      "Graph 45: 5355 nodes\n",
      "Graph 46: 4745 nodes\n",
      "Graph 47: 6234 nodes\n",
      "Graph 48: 6763 nodes\n",
      "Graph 49: 6574 nodes\n",
      "Graph 50: 6618 nodes\n",
      "Time: 3.5469288826\n",
      "Graph 51: 6428 nodes\n",
      "Graph 52: 6647 nodes\n",
      "Graph 53: 5759 nodes\n",
      "Graph 54: 5665 nodes\n",
      "Graph 55: 6572 nodes\n",
      "Graph 56: 8132 nodes\n",
      "Graph 57: 6885 nodes\n",
      "Graph 58: 6748 nodes\n",
      "Graph 59: 5967 nodes\n",
      "Graph 60: 5874 nodes\n",
      "Time: 1.72540307045\n",
      "Graph 61: 5670 nodes\n",
      "Graph 62: 6019 nodes\n",
      "Graph 63: 6088 nodes\n",
      "Graph 64: 7254 nodes\n",
      "Graph 65: 6732 nodes\n",
      "Graph 66: 6467 nodes\n",
      "Average loss at step 1400: 291.777413\n",
      "Graph 67: 6404 nodes\n",
      "Graph 68: 6413 nodes\n",
      "Graph 69: 6213 nodes\n",
      "Graph 70: 6991 nodes\n",
      "Time: 2.27566504478\n",
      "Graph 71: 7643 nodes\n",
      "Graph 72: 6631 nodes\n",
      "Graph 73: 4981 nodes\n",
      "Graph 74: 6860 nodes\n",
      "Graph 75: 6598 nodes\n",
      "Graph 76: 7459 nodes\n",
      "Graph 77: 7505 nodes\n",
      "Graph 78: 6897 nodes\n",
      "Graph 79: 1530 nodes\n",
      "Epoch: 6\n",
      "Graph 0: 47 nodes\n",
      "Time: 0.169668912888\n",
      "Graph 1: 936 nodes\n",
      "Graph 2: 5482 nodes\n",
      "Graph 3: 3148 nodes\n",
      "Graph 4: 6329 nodes\n",
      "Graph 5: 4003 nodes\n",
      "Graph 6: 2112 nodes\n",
      "Graph 7: 3231 nodes\n",
      "Graph 8: 4717 nodes\n",
      "Graph 9: 3769 nodes\n",
      "Graph 10: 5462 nodes\n",
      "Time: 2.51895213127\n",
      "Graph 11: 4641 nodes\n",
      "Graph 12: 5682 nodes\n",
      "Graph 13: 6341 nodes\n",
      "Graph 14: 6022 nodes\n",
      "Graph 15: 5762 nodes\n",
      "Graph 16: 5423 nodes\n",
      "Graph 17: 5324 nodes\n",
      "Graph 18: 5146 nodes\n",
      "Graph 19: 5459 nodes\n",
      "Average loss at step 1500: 291.093116\n",
      "Graph 20: 5552 nodes\n",
      "Time: 2.62049293518\n",
      "Graph 21: 5687 nodes\n",
      "Graph 22: 5592 nodes\n",
      "Graph 23: 5795 nodes\n",
      "Graph 24: 5084 nodes\n",
      "Graph 25: 6035 nodes\n",
      "Graph 26: 5500 nodes\n",
      "Graph 27: 5843 nodes\n",
      "Graph 28: 5928 nodes\n",
      "Graph 29: 4824 nodes\n",
      "Graph 30: 6197 nodes\n",
      "Time: 2.17606210709\n",
      "Graph 31: 5555 nodes\n",
      "Graph 32: 4852 nodes\n",
      "Graph 33: 6275 nodes\n",
      "Graph 34: 6428 nodes\n",
      "Graph 35: 6119 nodes\n",
      "Graph 36: 5771 nodes\n",
      "Graph 37: 6720 nodes\n",
      "Graph 38: 5162 nodes\n",
      "Graph 39: 5309 nodes\n",
      "Graph 40: 5282 nodes\n",
      "Time: 1.44983005524\n",
      "Graph 41: 5088 nodes\n",
      "Graph 42: 4318 nodes\n",
      "Graph 43: 5978 nodes\n",
      "Graph 44: 6363 nodes\n",
      "Graph 45: 5355 nodes\n",
      "Graph 46: 4745 nodes\n",
      "Graph 47: 6234 nodes\n",
      "Graph 48: 6763 nodes\n",
      "Graph 49: 6574 nodes\n",
      "Graph 50: 6618 nodes\n",
      "Time: 3.06202507019\n",
      "Graph 51: 6428 nodes\n",
      "Graph 52: 6647 nodes\n",
      "Graph 53: 5759 nodes\n",
      "Average loss at step 1600: 280.492440\n",
      "Graph 54: 5665 nodes\n",
      "Graph 55: 6572 nodes\n",
      "Graph 56: 8132 nodes\n",
      "Graph 57: 6885 nodes\n",
      "Graph 58: 6748 nodes\n",
      "Graph 59: 5967 nodes\n",
      "Graph 60: 5874 nodes\n",
      "Time: 2.14089393616\n",
      "Graph 61: 5670 nodes\n",
      "Graph 62: 6019 nodes\n",
      "Graph 63: 6088 nodes\n",
      "Graph 64: 7254 nodes\n",
      "Graph 65: 6732 nodes\n",
      "Graph 66: 6467 nodes\n",
      "Graph 67: 6404 nodes\n",
      "Graph 68: 6413 nodes\n",
      "Graph 69: 6213 nodes\n",
      "Graph 70: 6991 nodes\n",
      "Time: 2.4468319416\n",
      "Graph 71: 7643 nodes\n",
      "Graph 72: 6631 nodes\n",
      "Graph 73: 4981 nodes\n",
      "Graph 74: 6860 nodes\n",
      "Graph 75: 6598 nodes\n",
      "Graph 76: 7459 nodes\n",
      "Graph 77: 7505 nodes\n",
      "Graph 78: 6897 nodes\n",
      "Graph 79: 1530 nodes\n",
      "Epoch: 7\n",
      "Graph 0: 47 nodes\n",
      "Time: 0.177914142609\n",
      "Graph 1: 936 nodes\n",
      "Graph 2: 5482 nodes\n",
      "Graph 3: 3148 nodes\n",
      "Graph 4: 6329 nodes\n",
      "Graph 5: 4003 nodes\n",
      "Graph 6: 2112 nodes\n",
      "Average loss at step 1700: 281.417495\n",
      "Graph 7: 3231 nodes\n",
      "Graph 8: 4717 nodes\n",
      "Graph 9: 3769 nodes\n",
      "Graph 10: 5462 nodes\n",
      "Time: 1.84307408333\n",
      "Graph 11: 4641 nodes\n",
      "Graph 12: 5682 nodes\n",
      "Graph 13: 6341 nodes\n",
      "Graph 14: 6022 nodes\n",
      "Graph 15: 5762 nodes\n",
      "Graph 16: 5423 nodes\n",
      "Graph 17: 5324 nodes\n",
      "Graph 18: 5146 nodes\n",
      "Graph 19: 5459 nodes\n",
      "Graph 20: 5552 nodes\n",
      "Time: 1.95940709114\n",
      "Graph 21: 5687 nodes\n",
      "Graph 22: 5592 nodes\n",
      "Graph 23: 5795 nodes\n",
      "Graph 24: 5084 nodes\n",
      "Graph 25: 6035 nodes\n",
      "Graph 26: 5500 nodes\n",
      "Graph 27: 5843 nodes\n",
      "Graph 28: 5928 nodes\n",
      "Graph 29: 4824 nodes\n",
      "Graph 30: 6197 nodes\n",
      "Time: 2.86215496063\n",
      "Graph 31: 5555 nodes\n",
      "Graph 32: 4852 nodes\n",
      "Graph 33: 6275 nodes\n",
      "Graph 34: 6428 nodes\n",
      "Graph 35: 6119 nodes\n",
      "Graph 36: 5771 nodes\n",
      "Graph 37: 6720 nodes\n",
      "Graph 38: 5162 nodes\n",
      "Graph 39: 5309 nodes\n",
      "Average loss at step 1800: 272.935139\n",
      "Graph 40: 5282 nodes\n",
      "Time: 2.78559303284\n",
      "Graph 41: 5088 nodes\n",
      "Graph 42: 4318 nodes\n",
      "Graph 43: 5978 nodes\n",
      "Graph 44: 6363 nodes\n",
      "Graph 45: 5355 nodes\n",
      "Graph 46: 4745 nodes\n",
      "Graph 47: 6234 nodes\n",
      "Graph 48: 6763 nodes\n",
      "Graph 49: 6574 nodes\n",
      "Graph 50: 6618 nodes\n",
      "Time: 2.67760896683\n",
      "Graph 51: 6428 nodes\n",
      "Graph 52: 6647 nodes\n",
      "Graph 53: 5759 nodes\n",
      "Graph 54: 5665 nodes\n",
      "Graph 55: 6572 nodes\n",
      "Graph 56: 8132 nodes\n",
      "Graph 57: 6885 nodes\n",
      "Graph 58: 6748 nodes\n",
      "Graph 59: 5967 nodes\n",
      "Graph 60: 5874 nodes\n",
      "Time: 2.57576704025\n",
      "Graph 61: 5670 nodes\n",
      "Graph 62: 6019 nodes\n",
      "Graph 63: 6088 nodes\n",
      "Graph 64: 7254 nodes\n",
      "Graph 65: 6732 nodes\n",
      "Graph 66: 6467 nodes\n",
      "Graph 67: 6404 nodes\n",
      "Graph 68: 6413 nodes\n",
      "Graph 69: 6213 nodes\n",
      "Graph 70: 6991 nodes\n",
      "Time: 2.65542793274\n",
      "Graph 71: 7643 nodes\n",
      "Graph 72: 6631 nodes\n",
      "Graph 73: 4981 nodes\n",
      "Average loss at step 1900: 268.755996\n",
      "Graph 74: 6860 nodes\n",
      "Graph 75: 6598 nodes\n",
      "Graph 76: 7459 nodes\n",
      "Graph 77: 7505 nodes\n",
      "Graph 78: 6897 nodes\n",
      "Graph 79: 1530 nodes\n",
      "Epoch: 8\n",
      "Graph 0: 47 nodes\n",
      "Time: 0.310041904449\n",
      "Graph 1: 936 nodes\n",
      "Graph 2: 5482 nodes\n",
      "Graph 3: 3148 nodes\n",
      "Graph 4: 6329 nodes\n",
      "Graph 5: 4003 nodes\n",
      "Graph 6: 2112 nodes\n",
      "Graph 7: 3231 nodes\n",
      "Graph 8: 4717 nodes\n",
      "Graph 9: 3769 nodes\n",
      "Graph 10: 5462 nodes\n",
      "Time: 2.91193509102\n",
      "Graph 11: 4641 nodes\n",
      "Graph 12: 5682 nodes\n",
      "Graph 13: 6341 nodes\n",
      "Graph 14: 6022 nodes\n",
      "Graph 15: 5762 nodes\n",
      "Graph 16: 5423 nodes\n",
      "Graph 17: 5324 nodes\n",
      "Graph 18: 5146 nodes\n",
      "Graph 19: 5459 nodes\n",
      "Graph 20: 5552 nodes\n",
      "Time: 2.00875496864\n",
      "Graph 21: 5687 nodes\n",
      "Graph 22: 5592 nodes\n",
      "Graph 23: 5795 nodes\n",
      "Graph 24: 5084 nodes\n",
      "Graph 25: 6035 nodes\n",
      "Graph 26: 5500 nodes\n",
      "Average loss at step 2000: 271.057804\n",
      "Graph 27: 5843 nodes\n",
      "Graph 28: 5928 nodes\n",
      "Graph 29: 4824 nodes\n",
      "Graph 30: 6197 nodes\n",
      "Time: 2.57660293579\n",
      "Graph 31: 5555 nodes\n",
      "Graph 32: 4852 nodes\n",
      "Graph 33: 6275 nodes\n",
      "Graph 34: 6428 nodes\n",
      "Graph 35: 6119 nodes\n",
      "Graph 36: 5771 nodes\n",
      "Graph 37: 6720 nodes\n",
      "Graph 38: 5162 nodes\n",
      "Graph 39: 5309 nodes\n",
      "Graph 40: 5282 nodes\n",
      "Time: 2.59237909317\n",
      "Graph 41: 5088 nodes\n",
      "Graph 42: 4318 nodes\n",
      "Graph 43: 5978 nodes\n",
      "Graph 44: 6363 nodes\n",
      "Graph 45: 5355 nodes\n",
      "Graph 46: 4745 nodes\n",
      "Graph 47: 6234 nodes\n",
      "Graph 48: 6763 nodes\n",
      "Graph 49: 6574 nodes\n",
      "Graph 50: 6618 nodes\n",
      "Time: 3.16403388977\n",
      "Graph 51: 6428 nodes\n",
      "Graph 52: 6647 nodes\n",
      "Graph 53: 5759 nodes\n",
      "Graph 54: 5665 nodes\n",
      "Graph 55: 6572 nodes\n",
      "Graph 56: 8132 nodes\n",
      "Graph 57: 6885 nodes\n",
      "Graph 58: 6748 nodes\n",
      "Graph 59: 5967 nodes\n",
      "Average loss at step 2100: 264.355604\n",
      "Graph 60: 5874 nodes\n",
      "Time: 3.0713019371\n",
      "Graph 61: 5670 nodes\n",
      "Graph 62: 6019 nodes\n",
      "Graph 63: 6088 nodes\n",
      "Graph 64: 7254 nodes\n",
      "Graph 65: 6732 nodes\n",
      "Graph 66: 6467 nodes\n",
      "Graph 67: 6404 nodes\n",
      "Graph 68: 6413 nodes\n",
      "Graph 69: 6213 nodes\n",
      "Graph 70: 6991 nodes\n",
      "Time: 3.2609128952\n",
      "Graph 71: 7643 nodes\n",
      "Graph 72: 6631 nodes\n",
      "Graph 73: 4981 nodes\n",
      "Graph 74: 6860 nodes\n",
      "Graph 75: 6598 nodes\n",
      "Graph 76: 7459 nodes\n",
      "Graph 77: 7505 nodes\n",
      "Graph 78: 6897 nodes\n",
      "Graph 79: 1530 nodes\n",
      "Epoch: 9\n",
      "Graph 0: 47 nodes\n",
      "Time: 0.178035974503\n",
      "Graph 1: 936 nodes\n",
      "Graph 2: 5482 nodes\n",
      "Graph 3: 3148 nodes\n",
      "Graph 4: 6329 nodes\n",
      "Graph 5: 4003 nodes\n",
      "Graph 6: 2112 nodes\n",
      "Graph 7: 3231 nodes\n",
      "Graph 8: 4717 nodes\n",
      "Graph 9: 3769 nodes\n",
      "Graph 10: 5462 nodes\n",
      "Time: 2.05324196815\n",
      "Graph 11: 4641 nodes\n",
      "Graph 12: 5682 nodes\n",
      "Graph 13: 6341 nodes\n",
      "Average loss at step 2200: 267.669226\n",
      "Graph 14: 6022 nodes\n",
      "Graph 15: 5762 nodes\n",
      "Graph 16: 5423 nodes\n",
      "Graph 17: 5324 nodes\n",
      "Graph 18: 5146 nodes\n",
      "Graph 19: 5459 nodes\n",
      "Graph 20: 5552 nodes\n",
      "Time: 2.12864089012\n",
      "Graph 21: 5687 nodes\n",
      "Graph 22: 5592 nodes\n",
      "Graph 23: 5795 nodes\n",
      "Graph 24: 5084 nodes\n",
      "Graph 25: 6035 nodes\n",
      "Graph 26: 5500 nodes\n",
      "Graph 27: 5843 nodes\n",
      "Graph 28: 5928 nodes\n",
      "Graph 29: 4824 nodes\n",
      "Graph 30: 6197 nodes\n",
      "Time: 2.59951210022\n",
      "Graph 31: 5555 nodes\n",
      "Graph 32: 4852 nodes\n",
      "Graph 33: 6275 nodes\n",
      "Graph 34: 6428 nodes\n",
      "Graph 35: 6119 nodes\n",
      "Graph 36: 5771 nodes\n",
      "Graph 37: 6720 nodes\n",
      "Graph 38: 5162 nodes\n",
      "Graph 39: 5309 nodes\n",
      "Graph 40: 5282 nodes\n",
      "Time: 2.20232892036\n",
      "Graph 41: 5088 nodes\n",
      "Graph 42: 4318 nodes\n",
      "Graph 43: 5978 nodes\n",
      "Graph 44: 6363 nodes\n",
      "Graph 45: 5355 nodes\n",
      "Graph 46: 4745 nodes\n",
      "Average loss at step 2300: 264.199814\n",
      "Graph 47: 6234 nodes\n",
      "Graph 48: 6763 nodes\n",
      "Graph 49: 6574 nodes\n",
      "Graph 50: 6618 nodes\n",
      "Time: 3.87714910507\n",
      "Graph 51: 6428 nodes\n",
      "Graph 52: 6647 nodes\n",
      "Graph 53: 5759 nodes\n",
      "Graph 54: 5665 nodes\n",
      "Graph 55: 6572 nodes\n",
      "Graph 56: 8132 nodes\n",
      "Graph 57: 6885 nodes\n",
      "Graph 58: 6748 nodes\n",
      "Graph 59: 5967 nodes\n",
      "Graph 60: 5874 nodes\n",
      "Time: 2.98548793793\n",
      "Graph 61: 5670 nodes\n",
      "Graph 62: 6019 nodes\n",
      "Graph 63: 6088 nodes\n",
      "Graph 64: 7254 nodes\n",
      "Graph 65: 6732 nodes\n",
      "Graph 66: 6467 nodes\n",
      "Graph 67: 6404 nodes\n",
      "Graph 68: 6413 nodes\n",
      "Graph 69: 6213 nodes\n",
      "Graph 70: 6991 nodes\n",
      "Time: 2.93310809135\n",
      "Graph 71: 7643 nodes\n",
      "Graph 72: 6631 nodes\n",
      "Graph 73: 4981 nodes\n",
      "Graph 74: 6860 nodes\n",
      "Graph 75: 6598 nodes\n",
      "Graph 76: 7459 nodes\n",
      "Graph 77: 7505 nodes\n",
      "Graph 78: 6897 nodes\n",
      "Graph 79: 1530 nodes\n",
      "Average loss at step 2400: 262.042231\n"
     ]
    },
    {
     "data": {
      "text/plain": [
       "<AnonymousWalkEmbeddings.AWE at 0x1a1f204690>"
      ]
     },
     "execution_count": 63,
     "metadata": {},
     "output_type": "execute_result"
    }
   ],
   "source": [
    "dataset = 'relabeled_graphs'\n",
    "\n",
    "batch_size = 100\n",
    "window_size = 6\n",
    "embedding_size_w = 64\n",
    "embedding_size_d = 64\n",
    "num_samples = 32\n",
    "\n",
    "concat = False\n",
    "loss_type = 'sampled_softmax'\n",
    "optimize = 'Adagrad'\n",
    "learning_rate = 1.0\n",
    "root = '../twitter_security_2014/'\n",
    "ext = 'graphml'\n",
    "steps = 5\n",
    "epochs = 10\n",
    "batches_per_epoch = 3\n",
    "candidate_func = None\n",
    "graph_labels = None\n",
    "\n",
    "model = AnonymousWalkEmbeddings.AWE(dataset = dataset, batch_size = batch_size, window_size = window_size,\n",
    "                  embedding_size_w = embedding_size_w, embedding_size_d = embedding_size_d,\n",
    "                  num_samples = num_samples, concat = concat, loss_type = loss_type,\n",
    "                  optimize = optimize, learning_rate = learning_rate, root = root,\n",
    "                  ext = ext, steps = steps, epochs = epochs, batches_per_epoch = batches_per_epoch,\n",
    "                  candidate_func = candidate_func, graph_labels=graph_labels)\n",
    "\n",
    "model.train()"
   ]
  },
  {
   "cell_type": "markdown",
   "metadata": {
    "deletable": true,
    "editable": true
   },
   "source": [
    "Подгрузим разметку для графов "
   ]
  },
  {
   "cell_type": "code",
   "execution_count": 64,
   "metadata": {
    "collapsed": true,
    "deletable": true,
    "editable": true
   },
   "outputs": [],
   "source": [
    "labels = open('../twitter_security_2014/relabeled_graphs/labels.txt')\n",
    "labels = labels.read()\n",
    "labels = np.array(map(lambda x: int(x), labels.split()))"
   ]
  },
  {
   "cell_type": "markdown",
   "metadata": {
    "deletable": true,
    "editable": true
   },
   "source": [
    "### PCA approximation\n",
    "Здесь пробуем построить для части графов pca и потом посчитать проекции следующих эмбедингов на полученные направления. Нас интересует, как хорошо полученные проекции могут аппроксимировать сами эмбединги.\n",
    "\n",
    "Видим, что аутлаеры не особо выбиваются из общего паттерна. Дальше попробуем посмотреть, чем можно такое поведение объяснить. "
   ]
  },
  {
   "cell_type": "code",
   "execution_count": 65,
   "metadata": {
    "collapsed": false,
    "deletable": true,
    "editable": true
   },
   "outputs": [
    {
     "data": {
      "image/png": "[encoded data removed]",
      "text/plain": [
       "<matplotlib.figure.Figure at 0x1a24df6310>"
      ]
     },
     "metadata": {},
     "output_type": "display_data"
    }
   ],
   "source": [
    "pca_comp_number = 10\n",
    "\n",
    "test_set = model.graph_embeddings[:pca_comp_number]\n",
    "\n",
    "pca = PCA(n_components=10)\n",
    "pca.fit(scale(test_set))\n",
    "\n",
    "projection_set = pca.components_[:]\n",
    "\n",
    "res = []\n",
    "for embedding in model.graph_embeddings[pca_comp_number:]:\n",
    "    proj = projection_on_set(embedding, projection_set)\n",
    "    res.append(np.linalg.norm(embedding - proj))\n",
    "res = np.array(res)\n",
    "\n",
    "fig = plt.figure()\n",
    "plt.scatter(np.where(labels[pca_comp_number:] == 0)[0]+pca_comp_number, \n",
    "            res[np.where(labels[pca_comp_number:] == 0)[0]], label='normal', c='b')\n",
    "plt.scatter(np.where(labels[pca_comp_number:] == 1)[0]+pca_comp_number, \n",
    "            res[np.where(labels[pca_comp_number:] == 1)[0]], label='outlier', c='r')\n",
    "plt.xlabel(\"days\")\n",
    "plt.ylabel(\"$||X - X_{approx}||$\")\n",
    "plt.title(\"PCA approximation quality on time\")\n",
    "plt.legend()\n",
    "plt.grid(ls='dashed')\n",
    "#fig.savefig('graph_series_without_norm.pdf', format='pdf')"
   ]
  },
  {
   "cell_type": "markdown",
   "metadata": {
    "deletable": true,
    "editable": true
   },
   "source": [
    "### Norm differences \n",
    "\n",
    "Посмотрим, как меняются векторы эмбедингов от времени. Для этого, например, можно порисовать норму разностей двух последующих векторов. Как видно из графиков какой-то хорошей шшеометрической структуры пока не получили."
   ]
  },
  {
   "cell_type": "code",
   "execution_count": 66,
   "metadata": {
    "collapsed": false,
    "deletable": true,
    "editable": true
   },
   "outputs": [
    {
     "data": {
      "image/png": "[encoded data removed]",
      "text/plain": [
       "<matplotlib.figure.Figure at 0x1a20b7c8d0>"
      ]
     },
     "metadata": {},
     "output_type": "display_data"
    }
   ],
   "source": [
    "fig = plt.figure()\n",
    "for i, label in zip(range(len(labels[:-1])), labels[:-1]):\n",
    "    if label == 0:\n",
    "        plt.scatter(i, np.linalg.norm(model.graph_embeddings[i+1] - model.graph_embeddings[i]), c='b')\n",
    "    else:\n",
    "        plt.scatter(i, np.linalg.norm(model.graph_embeddings[i+1] - model.graph_embeddings[i]), c='r')\n",
    "    \n",
    "plt.xlabel('days')\n",
    "plt.ylabel('$||X_{i+1} - X_{i}||$')\n",
    "plt.title(\"Norm of embedding differences on time\")\n",
    "plt.grid(alpha=0.6)\n",
    "#fig.savefig('difference_embedding.pdf', format='pdf')"
   ]
  },
  {
   "cell_type": "markdown",
   "metadata": {
    "deletable": true,
    "editable": true
   },
   "source": [
    "### Norm series \n",
    "\n",
    "Есть предположение о том, что аутлаеры сильно будут отличаться по норме от обычных векторов. Построим график зависимости норм векторов от времени. Получаем, что мало того, что аутлаеры не выбиваются из общей кучи, так еще необычное поведение с ростом нормы эмбедингов. Дальше попробуем разобраться, чем оно вызвано."
   ]
  },
  {
   "cell_type": "code",
   "execution_count": 67,
   "metadata": {
    "collapsed": false,
    "deletable": true,
    "editable": true
   },
   "outputs": [
    {
     "data": {
      "image/png": "[encoded data removed]",
      "text/plain": [
       "<matplotlib.figure.Figure at 0x1a229fc650>"
      ]
     },
     "metadata": {},
     "output_type": "display_data"
    }
   ],
   "source": [
    "fig = plt.figure()\n",
    "norms = np.linalg.norm(model.graph_embeddings, axis=1)\n",
    "\n",
    "plt.scatter(np.where(labels == 0)[0], norms[np.where(labels == 0)[0]], label='normal', c='b')\n",
    "plt.scatter(np.where(labels == 1)[0], norms[np.where(labels == 1)[0]], label='outlier', c='r')\n",
    "\n",
    "plt.xlabel(\"days\")\n",
    "plt.ylabel(\"$||X||$\")\n",
    "plt.title(\"Norm of embedding on time\")\n",
    "\n",
    "plt.legend()\n",
    "plt.grid(ls='dashed')\n",
    "#fig.savefig('norms_series.pdf', format='pdf')"
   ]
  },
  {
   "cell_type": "markdown",
   "metadata": {
    "deletable": true,
    "editable": true
   },
   "source": [
    "### Norm growth\n",
    "\n",
    "Попробуем более отдельно рассмотреть вопрос с прошлого пункта. Интерсно, чем конкретно вызвано такое поведение у эмбедингов: либо это специфика модели, либо датасета. \n",
    "\n",
    "Чтобы проверить это предположение попробуем случайно помешать первые графы при обучении и снова отрисовать графики зависимости нормы от времени.\n",
    "\n",
    "Получаем, что на самом деле такой вид графика не зависит от датасета, а относится к самой модели. Плюс к этому, вид графика завист от парметра batches_per_epoch. Чем он больше, тем более гладким получается график. При совсем мелких значениях такая зависимость нормы от времени пропадает. "
   ]
  },
  {
   "cell_type": "code",
   "execution_count": 165,
   "metadata": {
    "collapsed": false,
    "deletable": true,
    "editable": true,
    "scrolled": true
   },
   "outputs": [
    {
     "name": "stdout",
     "output_type": "stream",
     "text": [
      "Number of graphs: 80\n",
      "Number of words: 877\n",
      "Initialized\n",
      "Epoch: 0\n",
      "Graph 0: 47 nodes\n",
      "Time: 2.4467279911\n",
      "Graph 1: 936 nodes\n",
      "Graph 2: 5482 nodes\n",
      "Graph 3: 3148 nodes\n",
      "Graph 4: 6329 nodes\n",
      "Graph 5: 4003 nodes\n",
      "Graph 6: 2112 nodes\n",
      "Graph 7: 3231 nodes\n",
      "Graph 8: 4717 nodes\n",
      "Graph 9: 3769 nodes\n",
      "Average loss at step 100: 8144.639649\n",
      "Graph 10: 5462 nodes\n",
      "Time: 6.48454904556\n",
      "Graph 11: 4641 nodes\n",
      "Graph 12: 5682 nodes\n",
      "Graph 13: 6341 nodes\n",
      "Graph 14: 6022 nodes\n",
      "Graph 15: 5762 nodes\n",
      "Graph 16: 5423 nodes\n",
      "Graph 17: 5324 nodes\n",
      "Graph 18: 5146 nodes\n",
      "Graph 19: 5459 nodes\n",
      "Average loss at step 200: 5850.941647\n",
      "Graph 20: 5552 nodes\n",
      "Time: 4.28212809563\n",
      "Graph 21: 5687 nodes\n",
      "Graph 22: 5592 nodes\n",
      "Graph 23: 5795 nodes\n",
      "Graph 24: 5084 nodes\n",
      "Graph 25: 6035 nodes\n",
      "Graph 26: 5500 nodes\n",
      "Graph 27: 5843 nodes\n",
      "Graph 28: 5928 nodes\n",
      "Graph 29: 4824 nodes\n",
      "Average loss at step 300: 4673.135439\n",
      "Graph 30: 6197 nodes\n",
      "Time: 7.76495599747\n",
      "Graph 31: 5555 nodes\n",
      "Graph 32: 4852 nodes\n",
      "Graph 33: 6275 nodes\n",
      "Graph 34: 6428 nodes\n",
      "Graph 35: 6119 nodes\n",
      "Graph 36: 5771 nodes\n",
      "Graph 37: 6720 nodes\n",
      "Graph 38: 5162 nodes\n",
      "Graph 39: 5309 nodes\n",
      "Average loss at step 400: 4056.421459\n",
      "Graph 40: 5282 nodes\n",
      "Time: 4.87134981155\n",
      "Graph 41: 5088 nodes\n",
      "Graph 42: 4318 nodes\n",
      "Graph 43: 5978 nodes\n",
      "Graph 44: 6363 nodes\n",
      "Graph 45: 5355 nodes\n",
      "Graph 46: 4745 nodes\n",
      "Graph 47: 6234 nodes\n",
      "Graph 48: 6763 nodes\n",
      "Graph 49: 6574 nodes\n",
      "Average loss at step 500: 3240.335011\n",
      "Graph 50: 6618 nodes\n",
      "Time: 8.37157893181\n",
      "Graph 51: 6428 nodes\n",
      "Graph 52: 6647 nodes\n",
      "Graph 53: 5759 nodes\n",
      "Graph 54: 5665 nodes\n",
      "Graph 55: 6572 nodes\n",
      "Graph 56: 8132 nodes\n",
      "Graph 57: 6885 nodes\n",
      "Graph 58: 6748 nodes\n",
      "Graph 59: 5967 nodes\n",
      "Average loss at step 600: 2737.098241\n",
      "Graph 60: 5874 nodes\n",
      "Time: 5.16225194931\n",
      "Graph 61: 5670 nodes\n",
      "Graph 62: 6019 nodes\n",
      "Graph 63: 6088 nodes\n",
      "Graph 64: 7254 nodes\n",
      "Graph 65: 6732 nodes\n",
      "Graph 66: 6467 nodes\n",
      "Graph 67: 6404 nodes\n",
      "Graph 68: 6413 nodes\n",
      "Graph 69: 6213 nodes\n",
      "Average loss at step 700: 2449.459397\n",
      "Graph 70: 6991 nodes\n",
      "Time: 5.52098703384\n",
      "Graph 71: 7643 nodes\n",
      "Graph 72: 6631 nodes\n",
      "Graph 73: 4981 nodes\n",
      "Graph 74: 6860 nodes\n",
      "Graph 75: 6598 nodes\n",
      "Graph 76: 7459 nodes\n",
      "Graph 77: 7505 nodes\n",
      "Graph 78: 6897 nodes\n",
      "Graph 79: 1530 nodes\n",
      "Average loss at step 800: 2185.402737\n",
      "Epoch: 1\n",
      "Graph 0: 47 nodes\n",
      "Time: 1.60180306435\n",
      "Graph 1: 936 nodes\n",
      "Graph 2: 5482 nodes\n",
      "Graph 3: 3148 nodes\n",
      "Graph 4: 6329 nodes\n",
      "Graph 5: 4003 nodes\n",
      "Graph 6: 2112 nodes\n",
      "Graph 7: 3231 nodes\n",
      "Graph 8: 4717 nodes\n",
      "Graph 9: 3769 nodes\n",
      "Average loss at step 900: 2238.129240\n",
      "Graph 10: 5462 nodes\n",
      "Time: 4.87344098091\n",
      "Graph 11: 4641 nodes\n",
      "Graph 12: 5682 nodes\n",
      "Graph 13: 6341 nodes\n",
      "Graph 14: 6022 nodes\n",
      "Graph 15: 5762 nodes\n",
      "Graph 16: 5423 nodes\n",
      "Graph 17: 5324 nodes\n",
      "Graph 18: 5146 nodes\n",
      "Graph 19: 5459 nodes\n",
      "Average loss at step 1000: 1848.332352\n",
      "Graph 20: 5552 nodes\n",
      "Time: 3.85225987434\n",
      "Graph 21: 5687 nodes\n",
      "Graph 22: 5592 nodes\n",
      "Graph 23: 5795 nodes\n",
      "Graph 24: 5084 nodes\n",
      "Graph 25: 6035 nodes\n",
      "Graph 26: 5500 nodes\n",
      "Graph 27: 5843 nodes\n",
      "Graph 28: 5928 nodes\n",
      "Graph 29: 4824 nodes\n",
      "Average loss at step 1100: 1566.938051\n",
      "Graph 30: 6197 nodes\n",
      "Time: 5.63556408882\n",
      "Graph 31: 5555 nodes\n",
      "Graph 32: 4852 nodes\n",
      "Graph 33: 6275 nodes\n",
      "Graph 34: 6428 nodes\n",
      "Graph 35: 6119 nodes\n",
      "Graph 36: 5771 nodes\n",
      "Graph 37: 6720 nodes\n",
      "Graph 38: 5162 nodes\n",
      "Graph 39: 5309 nodes\n",
      "Average loss at step 1200: 1436.932122\n",
      "Graph 40: 5282 nodes\n",
      "Time: 3.68954896927\n",
      "Graph 41: 5088 nodes\n",
      "Graph 42: 4318 nodes\n",
      "Graph 43: 5978 nodes\n",
      "Graph 44: 6363 nodes\n",
      "Graph 45: 5355 nodes\n",
      "Graph 46: 4745 nodes\n",
      "Graph 47: 6234 nodes\n",
      "Graph 48: 6763 nodes\n",
      "Graph 49: 6574 nodes\n",
      "Average loss at step 1300: 1289.802737\n",
      "Graph 50: 6618 nodes\n",
      "Time: 9.0091919899\n",
      "Graph 51: 6428 nodes\n",
      "Graph 52: 6647 nodes\n",
      "Graph 53: 5759 nodes\n",
      "Graph 54: 5665 nodes\n",
      "Graph 55: 6572 nodes\n",
      "Graph 56: 8132 nodes\n",
      "Graph 57: 6885 nodes\n",
      "Graph 58: 6748 nodes\n",
      "Graph 59: 5967 nodes\n",
      "Average loss at step 1400: 1196.809173\n",
      "Graph 60: 5874 nodes\n",
      "Time: 5.25799608231\n",
      "Graph 61: 5670 nodes\n",
      "Graph 62: 6019 nodes\n",
      "Graph 63: 6088 nodes\n",
      "Graph 64: 7254 nodes\n",
      "Graph 65: 6732 nodes\n",
      "Graph 66: 6467 nodes\n",
      "Graph 67: 6404 nodes\n",
      "Graph 68: 6413 nodes\n",
      "Graph 69: 6213 nodes\n",
      "Average loss at step 1500: 1040.251179\n",
      "Graph 70: 6991 nodes\n",
      "Time: 5.79733395576\n",
      "Graph 71: 7643 nodes\n",
      "Graph 72: 6631 nodes\n",
      "Graph 73: 4981 nodes\n",
      "Graph 74: 6860 nodes\n",
      "Graph 75: 6598 nodes\n",
      "Graph 76: 7459 nodes\n",
      "Graph 77: 7505 nodes\n",
      "Graph 78: 6897 nodes\n",
      "Graph 79: 1530 nodes\n",
      "Average loss at step 1600: 940.224397\n"
     ]
    },
    {
     "data": {
      "text/plain": [
       "<AnonymousWalkEmbeddings.AWE at 0x1a22419450>"
      ]
     },
     "execution_count": 165,
     "metadata": {},
     "output_type": "execute_result"
    }
   ],
   "source": [
    "dataset = 'relabeled_graphs'\n",
    "\n",
    "batch_size = 100\n",
    "window_size = 10\n",
    "embedding_size_w = 64\n",
    "embedding_size_d = 3\n",
    "num_samples = 32\n",
    "\n",
    "concat = False\n",
    "loss_type = 'sampled_softmax'\n",
    "optimize = 'Adagrad'\n",
    "learning_rate = 1.0\n",
    "root = '../twitter_security_2014/'\n",
    "ext = 'graphml'\n",
    "steps = 7\n",
    "epochs = 2\n",
    "batches_per_epoch = 10\n",
    "candidate_func = None\n",
    "graph_labels = None\n",
    "\n",
    "model2 = AnonymousWalkEmbeddings.AWE(dataset = dataset, batch_size = batch_size, window_size = window_size,\n",
    "                  embedding_size_w = embedding_size_w, embedding_size_d = embedding_size_d,\n",
    "                  num_samples = num_samples, concat = concat, loss_type = loss_type,\n",
    "                  optimize = optimize, learning_rate = learning_rate, root = root,\n",
    "                  ext = ext, steps = steps, epochs = epochs, batches_per_epoch = batches_per_epoch,\n",
    "                  candidate_func = candidate_func, graph_labels=graph_labels)\n",
    "\n",
    "model2.train()"
   ]
  },
  {
   "cell_type": "code",
   "execution_count": 168,
   "metadata": {
    "collapsed": false,
    "deletable": true,
    "editable": true
   },
   "outputs": [
    {
     "data": {
      "image/png": "[encoded data removed]",
      "text/plain": [
       "<matplotlib.figure.Figure at 0x1a22895e10>"
      ]
     },
     "metadata": {},
     "output_type": "display_data"
    }
   ],
   "source": [
    "from mpl_toolkits.mplot3d import Axes3D\n",
    "\n",
    "fig = plt.figure()\n",
    "ax = fig.add_subplot(111, projection='3d')\n",
    "\n",
    "x_0 = model2.graph_embeddings[np.where(labels == 0)]\n",
    "x_1 = model2.graph_embeddings[np.where(labels == 1)]\n",
    "\n",
    "ax.scatter(x_0[:, 0], x_0[:, 1], x_0[:, 2], c='b')\n",
    "ax.scatter(x_1[:, 0], x_1[:, 1], x_1[:, 2], c='r')\n",
    "plt.show()"
   ]
  },
  {
   "cell_type": "code",
   "execution_count": 178,
   "metadata": {
    "collapsed": false,
    "deletable": true,
    "editable": true
   },
   "outputs": [
    {
     "data": {
      "image/png": "[encoded data removed]",
      "text/plain": [
       "<matplotlib.figure.Figure at 0x1a22cee410>"
      ]
     },
     "metadata": {},
     "output_type": "display_data"
    }
   ],
   "source": [
    "fig = plt.figure()\n",
    "\n",
    "x_0 = model2.graph_embeddings[np.where(labels == 0)]\n",
    "x_1 = model2.graph_embeddings[np.where(labels == 1)]\n",
    "\n",
    "plt.scatter(x_0[:, 1], x_0[:, 2], c='b')\n",
    "plt.scatter(x_1[:, 1], x_1[:, 2], c='r')\n",
    "plt.title(\"2D embeddings\")\n",
    "plt.xlabel('1 feature')\n",
    "plt.ylabel('2 feature')\n",
    "plt.grid()\n",
    "plt.show()\n",
    "\n",
    "fig.savefig('2d_embeddings.pdf', format='pdf')"
   ]
  },
  {
   "cell_type": "code",
   "execution_count": 29,
   "metadata": {
    "collapsed": false,
    "deletable": true,
    "editable": true
   },
   "outputs": [
    {
     "data": {
      "image/png": "[encoded data removed]",
      "text/plain": [
       "<matplotlib.figure.Figure at 0x1a1c06da90>"
      ]
     },
     "metadata": {},
     "output_type": "display_data"
    }
   ],
   "source": [
    "shuffles = ['timestep_3.graphml', 'timestep_7.graphml', 'timestep_9.graphml',\n",
    "            'timestep_4.graphml', 'timestep_8.graphml', 'timestep_1.graphml', \n",
    "            'timestep_5.graphml', 'timestep_2.graphml', 'timestep_0.graphml', \n",
    "            'timestep_6.graphml']\n",
    "\n",
    "shuffles = map(lambda x: int(x[:-8].split('_')[1]), shuffles)\n",
    "\n",
    "fig = plt.figure()\n",
    "right_order_ge = np.concatenate((model2.graph_embeddings[shuffles], model2.graph_embeddings[10:]))\n",
    "norms = np.linalg.norm(right_order_ge, axis=1)\n",
    "\n",
    "plt.scatter(np.where(labels == 0)[0], norms[np.where(labels == 0)[0]], label='normal', c='b')\n",
    "plt.scatter(np.where(labels == 1)[0], norms[np.where(labels == 1)[0]], label='outlier', c='r')\n",
    "\n",
    "plt.xlabel(\"days\")\n",
    "plt.ylabel(\"$||X||$\")\n",
    "plt.title(\"Norm of embedding on time\")\n",
    "\n",
    "plt.legend()\n",
    "plt.grid(ls='dashed')\n",
    "#fig.savefig('norms_series_shuffled.pdf', format='pdf')"
   ]
  },
  {
   "cell_type": "markdown",
   "metadata": {
    "deletable": true,
    "editable": true
   },
   "source": [
    "### Matrix norm \n"
   ]
  },
  {
   "cell_type": "markdown",
   "metadata": {
    "deletable": true,
    "editable": true
   },
   "source": [
    "Посмотрим, что происходит с нормой матрицы слов. "
   ]
  },
  {
   "cell_type": "markdown",
   "metadata": {
    "deletable": true,
    "editable": true
   },
   "source": [
    "### Embeddings characteristics "
   ]
  },
  {
   "cell_type": "code",
   "execution_count": null,
   "metadata": {
    "collapsed": true,
    "deletable": true,
    "editable": true
   },
   "outputs": [],
   "source": []
  },
  {
   "cell_type": "markdown",
   "metadata": {
    "deletable": true,
    "editable": true
   },
   "source": [
    "### One class SVM "
   ]
  },
  {
   "cell_type": "markdown",
   "metadata": {
    "deletable": true,
    "editable": true
   },
   "source": [
    "Попробуем поискать выбросы, не учитывая то, что в задаче имеется временная зависимость. Тут пробуем одноклассовый svm, в следующем пункте пробуем isolation forest"
   ]
  },
  {
   "cell_type": "code",
   "execution_count": 60,
   "metadata": {
    "collapsed": true,
    "deletable": true,
    "editable": true
   },
   "outputs": [],
   "source": [
    "from sklearn.svm import OneClassSVM"
   ]
  },
  {
   "cell_type": "code",
   "execution_count": 173,
   "metadata": {
    "collapsed": false,
    "deletable": true,
    "editable": true
   },
   "outputs": [
    {
     "data": {
      "image/png": "[encoded data removed]",
      "text/plain": [
       "<matplotlib.figure.Figure at 0x1a1e72dc90>"
      ]
     },
     "metadata": {},
     "output_type": "display_data"
    }
   ],
   "source": [
    "fig = plt.figure()\n",
    "cls = OneClassSVM(kernel='rbf', gamma=1e-2)\n",
    "cls.fit(model.graph_embeddings[np.where(labels == 0)[0]][:15])\n",
    "plt.scatter(np.where(labels==1), \n",
    "            cls.decision_function(model.graph_embeddings)[np.where(labels==1)], c='r', label='outlier')\n",
    "plt.scatter(np.where(labels==0), \n",
    "            cls.decision_function(model.graph_embeddings)[np.where(labels==0)], c='b', label='normal')\n",
    "plt.grid()\n",
    "plt.title(\"One class SVM forest outlier score\")\n",
    "plt.ylabel('score')\n",
    "plt.xlabel('days')\n",
    "fig.savefig('oneclass_svm.pdf', format='pdf')  "
   ]
  },
  {
   "cell_type": "markdown",
   "metadata": {
    "deletable": true,
    "editable": true
   },
   "source": [
    "### Isolation forest"
   ]
  },
  {
   "cell_type": "code",
   "execution_count": 135,
   "metadata": {
    "collapsed": true,
    "deletable": true,
    "editable": true
   },
   "outputs": [],
   "source": [
    "from sklearn.ensemble import IsolationForest"
   ]
  },
  {
   "cell_type": "code",
   "execution_count": 174,
   "metadata": {
    "collapsed": false,
    "deletable": true,
    "editable": true
   },
   "outputs": [
    {
     "data": {
      "image/png": "[encoded data removed]",
      "text/plain": [
       "<matplotlib.figure.Figure at 0x1a228bd790>"
      ]
     },
     "metadata": {},
     "output_type": "display_data"
    }
   ],
   "source": [
    "fig = plt.figure()\n",
    "cls = IsolationForest(n_estimators=1000)\n",
    "cls.fit(model.graph_embeddings[np.where(labels == 0)[0]][:15])\n",
    "plt.scatter(np.where(labels==1), \n",
    "            cls.decision_function(model.graph_embeddings)[np.where(labels==1)], c='r', label='outlier')\n",
    "plt.scatter(np.where(labels==0), \n",
    "            cls.decision_function(model.graph_embeddings)[np.where(labels==0)], c='b', label='normal')\n",
    "plt.title(\"Isolation forest outlier score\")\n",
    "plt.ylabel('score')\n",
    "plt.xlabel('days')\n",
    "plt.grid()\n",
    "fig.savefig('isolation_forest.pdf', format='pdf')"
   ]
  },
  {
   "cell_type": "markdown",
   "metadata": {
    "deletable": true,
    "editable": true
   },
   "source": [
    "# Всякие разные вопросы, возникшие по ходу \n",
    "\n",
    "* можно ли считать AUC для такой задачи, чтобы сравнивать модели?"
   ]
  },
  {
   "cell_type": "code",
   "execution_count": 25,
   "metadata": {
    "collapsed": false,
    "deletable": true,
    "editable": true
   },
   "outputs": [],
   "source": [
    "from sklearn.manifold import TSNE"
   ]
  },
  {
   "cell_type": "code",
   "execution_count": 68,
   "metadata": {
    "collapsed": true,
    "deletable": true,
    "editable": true
   },
   "outputs": [],
   "source": [
    "tsne = TSNE(perplexity=50)\n",
    "X = tsne.fit_transform(model.graph_embeddings)"
   ]
  },
  {
   "cell_type": "code",
   "execution_count": 69,
   "metadata": {
    "collapsed": false,
    "deletable": true,
    "editable": true
   },
   "outputs": [
    {
     "data": {
      "image/png": "[encoded data removed]",
      "text/plain": [
       "<matplotlib.figure.Figure at 0x1a228a4190>"
      ]
     },
     "metadata": {},
     "output_type": "display_data"
    }
   ],
   "source": [
    "plt.scatter(X[np.where(labels == 0)[0], 0], X[np.where(labels == 0)[0], 1], label='normal', c='b')\n",
    "plt.scatter(X[np.where(labels == 1)[0], 0], X[np.where(labels == 1)[0], 1], label='outlier', c='r')\n",
    "plt.title(\"TSNE on embeddings\")\n",
    "plt.legend()\n",
    "plt.grid(alpha=0.7)\n",
    "#plt.scatter(norms[np.where(labels == 1)[0]], label='outlier', c='r')"
   ]
  },
  {
   "cell_type": "code",
   "execution_count": 70,
   "metadata": {
    "collapsed": false,
    "deletable": true,
    "editable": true
   },
   "outputs": [
    {
     "data": {
      "image/png": "[encoded data removed]",
      "text/plain": [
       "<matplotlib.figure.Figure at 0x1a2eed50d0>"
      ]
     },
     "metadata": {},
     "output_type": "display_data"
    }
   ],
   "source": [
    "prev_cnt = 3\n",
    "for i, label in zip(range(prev_cnt, len(labels[prev_cnt:])), labels[prev_cnt:]):\n",
    "    if label == 0:\n",
    "        plt.scatter(i, np.linalg.norm(model.graph_embeddings[i] - sum(model.graph_embeddings[i-prev_cnt:i])), c='b')\n",
    "    else:\n",
    "        plt.scatter(i, np.linalg.norm(model.graph_embeddings[i] - sum(model.graph_embeddings[i-prev_cnt:i])), c='r')"
   ]
  },
  {
   "cell_type": "code",
   "execution_count": 113,
   "metadata": {
    "collapsed": false,
    "deletable": true,
    "editable": true
   },
   "outputs": [
    {
     "name": "stdout",
     "output_type": "stream",
     "text": [
      "193.41898\n"
     ]
    }
   ],
   "source": [
    "with model.graph.as_default():\n",
    "    init = tf.global_variables_initializer()\n",
    "\n",
    "    sess = tf.Session()\n",
    "    sess.run(init)\n",
    "    v = sess.run(model.word_embeddings)    \n",
    "    print(np.linalg.norm(v))"
   ]
  },
  {
   "cell_type": "code",
   "execution_count": 2,
   "metadata": {
    "collapsed": false,
    "deletable": true,
    "editable": true
   },
   "outputs": [],
   "source": [
    "from scipy.io import loadmat"
   ]
  },
  {
   "cell_type": "code",
   "execution_count": 4,
   "metadata": {
    "collapsed": false,
    "deletable": true,
    "editable": true
   },
   "outputs": [
    {
     "name": "stderr",
     "output_type": "stream",
     "text": [
      "/Users/Macbook/anaconda/envs/py27/lib/python2.7/site-packages/h5py/__init__.py:34: FutureWarning: Conversion of the second argument of issubdtype from `float` to `np.floating` is deprecated. In future, it will be treated as `np.float64 == np.dtype(float).type`.\n",
      "  from ._conv import register_converters as _register_converters\n"
     ]
    }
   ],
   "source": [
    "import h5py"
   ]
  },
  {
   "cell_type": "code",
   "execution_count": 5,
   "metadata": {
    "collapsed": true,
    "deletable": true,
    "editable": true
   },
   "outputs": [],
   "source": [
    "import hdf5storage\n",
    "mat = hdf5storage.loadmat('enron/Date_weekend_cropped.mat')"
   ]
  },
  {
   "cell_type": "code",
   "execution_count": 9,
   "metadata": {
    "collapsed": false,
    "deletable": true,
    "editable": true
   },
   "outputs": [],
   "source": [
    "emails = pd.read_csv('../enron/emails.csv')"
   ]
  },
  {
   "cell_type": "code",
   "execution_count": 45,
   "metadata": {
    "collapsed": false,
    "deletable": true,
    "editable": true
   },
   "outputs": [],
   "source": [
    "r,t,y = emails.ix[100]['message'].split('\\n')[1:4]"
   ]
  },
  {
   "cell_type": "code",
   "execution_count": 46,
   "metadata": {
    "collapsed": false,
    "deletable": true,
    "editable": true
   },
   "outputs": [
    {
     "data": {
      "text/plain": [
       "['16', 'Aug', '2000']"
      ]
     },
     "execution_count": 46,
     "metadata": {},
     "output_type": "execute_result"
    }
   ],
   "source": [
    "r.split()[2:5]"
   ]
  },
  {
   "cell_type": "code",
   "execution_count": 47,
   "metadata": {
    "collapsed": false,
    "deletable": true,
    "editable": true
   },
   "outputs": [
    {
     "name": "stdout",
     "output_type": "stream",
     "text": [
      "0\n",
      "20000\n",
      "40000\n",
      "60000\n",
      "80000\n",
      "100000\n",
      "120000\n",
      "140000\n",
      "160000\n",
      "180000\n",
      "200000\n",
      "220000\n",
      "240000\n",
      "260000\n",
      "280000\n",
      "300000\n",
      "320000\n",
      "340000\n",
      "360000\n",
      "380000\n",
      "400000\n",
      "420000\n",
      "440000\n",
      "460000\n",
      "480000\n",
      "500000\n"
     ]
    }
   ],
   "source": [
    "dataset = []\n",
    "for i in range(len(emails)):\n",
    "    \n",
    "    if i%20000 == 0:\n",
    "        print(i)\n",
    "    \n",
    "    DATE, FROM, TO = emails.ix[i]['message'].split('\\n')[1:4]\n",
    "    \n",
    "    condition1 = DATE[:4] == 'Date' and FROM[:4] == 'From' and TO[:2] == 'To'\n",
    "    condition2 = DATE[4:] != '' and FROM[4:] != '' and TO[2:] != ''\n",
    "    \n",
    "    try:\n",
    "        dataset.append((' '.join(DATE.split()[2:5]), FROM.split()[1], TO.split()[1]))\n",
    "    except IndexError:\n",
    "        pass"
   ]
  },
  {
   "cell_type": "code",
   "execution_count": 61,
   "metadata": {
    "collapsed": false,
    "deletable": true,
    "editable": true
   },
   "outputs": [
    {
     "data": {
      "text/plain": [
       "'24 Jun 1999'"
      ]
     },
     "execution_count": 61,
     "metadata": {},
     "output_type": "execute_result"
    }
   ],
   "source": [
    "temp[3000][0]"
   ]
  },
  {
   "cell_type": "code",
   "execution_count": 60,
   "metadata": {
    "collapsed": false,
    "deletable": true,
    "editable": true
   },
   "outputs": [
    {
     "data": {
      "text/plain": [
       "datetime.datetime(1999, 6, 24, 0, 0)"
      ]
     },
     "execution_count": 60,
     "metadata": {},
     "output_type": "execute_result"
    }
   ],
   "source": [
    "datetime.datetime.strptime(temp[3000][0], '%d %b %Y')"
   ]
  },
  {
   "cell_type": "code",
   "execution_count": 48,
   "metadata": {
    "collapsed": false,
    "deletable": true,
    "editable": true
   },
   "outputs": [],
   "source": [
    "temp = sorted(dataset, key=lambda x: datetime.datetime.strptime(x[0], '%d %b %Y'))"
   ]
  },
  {
   "cell_type": "code",
   "execution_count": 62,
   "metadata": {
    "collapsed": false,
    "deletable": true,
    "editable": true
   },
   "outputs": [],
   "source": [
    "def check_time(x):\n",
    "    first = datetime.datetime.strptime(x[0], '%d %b %Y') > datetime.datetime(2000, 6, 24, 0, 0) \n",
    "    second = datetime.datetime.strptime(x[0], '%d %b %Y') < datetime.datetime(2002, 3, 24, 0, 0) \n",
    "    return first and second\n",
    "temp1 = [x for x in temp if check_time(x)]"
   ]
  },
  {
   "cell_type": "code",
   "execution_count": 67,
   "metadata": {
    "collapsed": true,
    "deletable": true,
    "editable": true
   },
   "outputs": [],
   "source": [
    "temp1 = np.array(temp1)"
   ]
  },
  {
   "cell_type": "code",
   "execution_count": 76,
   "metadata": {
    "collapsed": false,
    "deletable": true,
    "editable": true
   },
   "outputs": [],
   "source": [
    "time_steps = []\n",
    "for date in sorted(np.unique(temp1[:, 0]), key=lambda x: datetime.datetime.strptime(x, '%d %b %Y')):\n",
    "    date_array = []\n",
    "    for item in temp1:\n",
    "        if item[0] == date:\n",
    "            date_array.append(item)\n",
    "    time_steps.append(date_array)"
   ]
  },
  {
   "cell_type": "code",
   "execution_count": null,
   "metadata": {
    "collapsed": false,
    "deletable": true,
    "editable": true
   },
   "outputs": [],
   "source": [
    "sorted(np.unique(temp1[:, 0]), key=lambda x: datetime.datetime.strptime(x, '%d %b %Y'))"
   ]
  },
  {
   "cell_type": "code",
   "execution_count": 33,
   "metadata": {
    "collapsed": true,
    "deletable": true,
    "editable": true
   },
   "outputs": [],
   "source": [
    "def sorting(x):\n",
    "    print x\n",
    "    return datetime.datetime.strptime(x[0], '%d %b %Y')"
   ]
  },
  {
   "cell_type": "code",
   "execution_count": 99,
   "metadata": {
    "collapsed": false,
    "deletable": true,
    "editable": true
   },
   "outputs": [],
   "source": [
    "for i, step in enumerate(time_steps):\n",
    "    f = open('../enron/enron_{0}.txt'.format(i), 'w')\n",
    "    for line in step:\n",
    "        f.write(' '.join(line[1:])+'\\n')\n",
    "    f.close()"
   ]
  },
  {
   "cell_type": "code",
   "execution_count": 1,
   "metadata": {
    "collapsed": false,
    "deletable": true,
    "editable": true
   },
   "outputs": [
    {
     "ename": "NameError",
     "evalue": "name 'i' is not defined",
     "output_type": "error",
     "traceback": [
      "\u001b[0;31m---------------------------------------------------------------------------\u001b[0m",
      "\u001b[0;31mNameError\u001b[0m                                 Traceback (most recent call last)",
      "\u001b[0;32m<ipython-input-1-4deca2cce197>\u001b[0m in \u001b[0;36m<module>\u001b[0;34m()\u001b[0m\n\u001b[0;32m----> 1\u001b[0;31m \u001b[0mf\u001b[0m \u001b[0;34m=\u001b[0m \u001b[0mopen\u001b[0m\u001b[0;34m(\u001b[0m\u001b[0;34m'../enron/time_steps.txt'\u001b[0m\u001b[0;34m.\u001b[0m\u001b[0mformat\u001b[0m\u001b[0;34m(\u001b[0m\u001b[0mi\u001b[0m\u001b[0;34m)\u001b[0m\u001b[0;34m,\u001b[0m \u001b[0;34m'w'\u001b[0m\u001b[0;34m)\u001b[0m\u001b[0;34m\u001b[0m\u001b[0m\n\u001b[0m\u001b[1;32m      2\u001b[0m \u001b[0;32mfor\u001b[0m \u001b[0mi\u001b[0m \u001b[0;32min\u001b[0m \u001b[0msorted\u001b[0m\u001b[0;34m(\u001b[0m\u001b[0mnp\u001b[0m\u001b[0;34m.\u001b[0m\u001b[0munique\u001b[0m\u001b[0;34m(\u001b[0m\u001b[0mtemp1\u001b[0m\u001b[0;34m[\u001b[0m\u001b[0;34m:\u001b[0m\u001b[0;34m,\u001b[0m \u001b[0;36m0\u001b[0m\u001b[0;34m]\u001b[0m\u001b[0;34m)\u001b[0m\u001b[0;34m,\u001b[0m \u001b[0mkey\u001b[0m\u001b[0;34m=\u001b[0m\u001b[0;32mlambda\u001b[0m \u001b[0mx\u001b[0m\u001b[0;34m:\u001b[0m \u001b[0mdatetime\u001b[0m\u001b[0;34m.\u001b[0m\u001b[0mdatetime\u001b[0m\u001b[0;34m.\u001b[0m\u001b[0mstrptime\u001b[0m\u001b[0;34m(\u001b[0m\u001b[0mx\u001b[0m\u001b[0;34m,\u001b[0m \u001b[0;34m'%d %b %Y'\u001b[0m\u001b[0;34m)\u001b[0m\u001b[0;34m)\u001b[0m\u001b[0;34m:\u001b[0m\u001b[0;34m\u001b[0m\u001b[0m\n\u001b[1;32m      3\u001b[0m     \u001b[0mf\u001b[0m\u001b[0;34m.\u001b[0m\u001b[0mwrite\u001b[0m\u001b[0;34m(\u001b[0m\u001b[0mi\u001b[0m \u001b[0;34m+\u001b[0m \u001b[0;34m'\\n'\u001b[0m\u001b[0;34m)\u001b[0m\u001b[0;34m\u001b[0m\u001b[0m\n\u001b[1;32m      4\u001b[0m \u001b[0mf\u001b[0m\u001b[0;34m.\u001b[0m\u001b[0mclose\u001b[0m\u001b[0;34m(\u001b[0m\u001b[0;34m)\u001b[0m\u001b[0;34m\u001b[0m\u001b[0m\n",
      "\u001b[0;31mNameError\u001b[0m: name 'i' is not defined"
     ]
    }
   ],
   "source": [
    "f = open('../enron/time_steps.txt'.format(i), 'w')\n",
    "for i in sorted(np.unique(temp1[:, 0]), key=lambda x: datetime.datetime.strptime(x, '%d %b %Y')):\n",
    "    f.write(i + '\\n')\n",
    "f.close()"
   ]
  },
  {
   "cell_type": "code",
   "execution_count": 5,
   "metadata": {
    "collapsed": false,
    "deletable": true,
    "editable": true
   },
   "outputs": [
    {
     "name": "stdout",
     "output_type": "stream",
     "text": [
      "GraphAnomaly.ipynb     \u001b[1m\u001b[36menron\u001b[m\u001b[m/                 \u001b[1m\u001b[36mtwitter_security_2014\u001b[m\u001b[m/\r\n",
      "\u001b[1m\u001b[36mIAM\u001b[m\u001b[m/                   \u001b[1m\u001b[36mgraphics\u001b[m\u001b[m/\r\n",
      "\u001b[1m\u001b[36mawe\u001b[m\u001b[m/                   mat2text.m\r\n"
     ]
    }
   ],
   "source": [
    "%ls"
   ]
  },
  {
   "cell_type": "code",
   "execution_count": null,
   "metadata": {
    "collapsed": true
   },
   "outputs": [],
   "source": []
  }
 ],
 "metadata": {
  "kernelspec": {
   "display_name": "kernel27",
   "language": "python",
   "name": "kernel27"
  },
  "language_info": {
   "codemirror_mode": {
    "name": "ipython",
    "version": 2
   },
   "file_extension": ".py",
   "mimetype": "text/x-python",
   "name": "python",
   "nbconvert_exporter": "python",
   "pygments_lexer": "ipython2",
   "version": "2.7.13"
  },
  "toc": {
   "nav_menu": {},
   "number_sections": true,
   "sideBar": true,
   "skip_h1_title": false,
   "title_cell": "Table of Contents",
   "title_sidebar": "Contents",
   "toc_cell": false,
   "toc_position": {},
   "toc_section_display": true,
   "toc_window_display": false
  },
  "varInspector": {
   "cols": {
    "lenName": 16,
    "lenType": 16,
    "lenVar": 40
   },
   "kernels_config": {
    "python": {
     "delete_cmd_postfix": "",
     "delete_cmd_prefix": "del ",
     "library": "var_list.py",
     "varRefreshCmd": "print(var_dic_list())"
    },
    "r": {
     "delete_cmd_postfix": ") ",
     "delete_cmd_prefix": "rm(",
     "library": "var_list.r",
     "varRefreshCmd": "cat(var_dic_list()) "
    }
   },
   "types_to_exclude": [
    "module",
    "function",
    "builtin_function_or_method",
    "instance",
    "_Feature"
   ],
   "window_display": false
  }
 },
 "nbformat": 4,
 "nbformat_minor": 2
}
